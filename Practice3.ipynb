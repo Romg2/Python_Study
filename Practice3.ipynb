{
 "cells": [
  {
   "cell_type": "code",
   "execution_count": 2,
   "metadata": {},
   "outputs": [
    {
     "name": "stdout",
     "output_type": "stream",
     "text": [
      "오늘의 날씨는?미세먼지\n",
      "마스크를 챙기세요\n",
      "기온20\n",
      "괜찮은 날씨에요\n"
     ]
    }
   ],
   "source": [
    "# if\n",
    "weather = input(\"오늘의 날씨는?\") # input 사용자가 값을 넣게 나타남 str 형태\n",
    "if weather == \"비\":\n",
    "    print(\"우산을 챙기세요\")\n",
    "elif weather == \"미세먼지\":\n",
    "    print(\"마스크를 챙기세요\")\n",
    "else:\n",
    "    print(\"준비물 필요 없어요.\")    \n",
    "\n",
    "temp = int(input(\"기온\"))\n",
    "\n",
    "if temp >= 30:\n",
    "    print(\"너무 더워요. 나가지 마세요\")\n",
    "elif 10 <= temp & temp < 30:\n",
    "    print(\"괜찮은 날씨에요\")\n",
    "elif 0 <= temp <10:\n",
    "    print(\"외투를 챙기세요\")\n",
    "else:\n",
    "    print(\"너무 추워요. 나가지 마세요\")"
   ]
  },
  {
   "cell_type": "code",
   "execution_count": 6,
   "metadata": {},
   "outputs": [
    {
     "name": "stdout",
     "output_type": "stream",
     "text": [
      "대기번호 : 1\n",
      "대기번호 : 2\n",
      "대기번호 : 3\n",
      "대기번호 : 4\n",
      "아이언맨, 커피가 준비되었습니다.\n",
      "토르, 커피가 준비되었습니다.\n",
      "그루트, 커피가 준비되었습니다.\n"
     ]
    }
   ],
   "source": [
    "# for\n",
    "for waiting_no in range(1,5):\n",
    "    print(f\"대기번호 : {waiting_no}\")\n",
    "\n",
    "starbucks = [\"아이언맨\", \"토르\", \"그루트\"]\n",
    "\n",
    "for customer in starbucks:\n",
    "    print(f\"{customer}, 커피가 준비되었습니다.\")"
   ]
  },
  {
   "cell_type": "code",
   "execution_count": 8,
   "metadata": {},
   "outputs": [
    {
     "name": "stdout",
     "output_type": "stream",
     "text": [
      "토르, 커피가 준비 되었습니다. 5 번 남았어요.\n",
      "토르, 커피가 준비 되었습니다. 4 번 남았어요.\n",
      "토르, 커피가 준비 되었습니다. 3 번 남았어요.\n",
      "토르, 커피가 준비 되었습니다. 2 번 남았어요.\n",
      "토르, 커피가 준비 되었습니다. 1 번 남았어요.\n",
      "커피는 폐기처분되었습니다.\n",
      "토르, 커피가 준비되었습니다.\n",
      "이름이 어떻게 되세요?아이언맨\n",
      "토르, 커피가 준비되었습니다.\n",
      "이름이 어떻게 되세요?토르\n"
     ]
    }
   ],
   "source": [
    "# while\n",
    "customer = \"토르\"\n",
    "index = 5\n",
    "while index >=1:\n",
    "    print(f\"{customer}, 커피가 준비 되었습니다. {index} 번 남았어요.\")\n",
    "    index -= 1\n",
    "    if index == 0:\n",
    "        print(\"커피는 폐기처분되었습니다.\")\n",
    "\n",
    "\n",
    "customer = \"토르\"\n",
    "person = \"unknown\"\n",
    "\n",
    "while person != customer :\n",
    "    print(f\"{customer}, 커피가 준비되었습니다.\")\n",
    "    person = input(\"이름이 어떻게 되세요?\")"
   ]
  },
  {
   "cell_type": "code",
   "execution_count": 11,
   "metadata": {},
   "outputs": [
    {
     "name": "stdout",
     "output_type": "stream",
     "text": [
      "1번 학생 책을 읽어봐\n",
      "3번 학생 책을 읽어봐\n",
      "4번 학생 책을 읽어봐\n",
      "6번 학생 책을 읽어봐\n",
      "오늘 수업 여기까지. 7번 학생은 교무실로 따라와\n"
     ]
    }
   ],
   "source": [
    "# continue, break\n",
    "absent = [2,5] # 결석\n",
    "no_book = [7] # 교재 없음\n",
    "\n",
    "for student in range(1,11):\n",
    "    if student in absent:\n",
    "        continue # 아래 문장을 반복하지 않고 다음으로 넘어가라 특정 조건은 실행하지 않는다.\n",
    "    elif student in no_book:\n",
    "        print(\"오늘 수업 여기까지. {0}번 학생은 교무실로 따라와\" .format(student))\n",
    "        break\n",
    "    print(\"{0}번 학생 책을 읽어봐\".format(student))"
   ]
  },
  {
   "cell_type": "code",
   "execution_count": 17,
   "metadata": {},
   "outputs": [
    {
     "name": "stdout",
     "output_type": "stream",
     "text": [
      "[101, 102, 103, 104, 105]\n",
      "[8, 4, 5]\n",
      "['IRON MAN', 'THOR', 'GROOT']\n"
     ]
    }
   ],
   "source": [
    "# 한줄 for\n",
    "# 출석번호 1,2,3,4, 앞에 100을 붙이기로함\n",
    "students = list(range(1,6))\n",
    "students = [i + 100 for i in students]\n",
    "print(students)\n",
    "\n",
    "# 학생이름을 길이로 변환\n",
    "students = [\"Iron man\", \"Thor\", \"Groot\"]\n",
    "students = [len(i) for i in students]\n",
    "print(students)\n",
    "\n",
    "# 학생 이름을 대문자\n",
    "students = [\"Iron man\", \"Thor\", \"Groot\"]\n",
    "students = [i.upper() for i in students]\n",
    "print(students)"
   ]
  },
  {
   "cell_type": "markdown",
   "metadata": {},
   "source": [
    "### Quiz 5\n",
    "50명의 승객과 매칭 기회가 있을 때, 총 탑승 승객 수를 구하는 프로그램\n",
    "- 조건1: 승객별 운행 소요 시간: 5 ~ 50분 사이의 난수\n",
    "- 조건2: 당신은 소요 시간 5 ~ 15분 사이의 승객만 매칭하여야 합니다.\n",
    "\n",
    "출력 예시\n",
    "\n",
    "[0] 1번째 손님 (소요시간 : 15분)\n",
    "\n",
    "[0] 1번째 손님 (소요시간 : 15분)\n",
    "\n",
    "[0] 1번째 손님 (소요시간 : 15분)\n",
    "\n",
    " ...\n",
    " \n",
    "[] 50번째 손님 (소요시간: 16분)\n",
    "\n",
    "총 탑승 승객 : 2 분"
   ]
  },
  {
   "cell_type": "code",
   "execution_count": 28,
   "metadata": {},
   "outputs": [
    {
     "name": "stdout",
     "output_type": "stream",
     "text": [
      "[ ] 1번째 손님 (소요시간: 35분)\n",
      "[ ] 2번째 손님 (소요시간: 34분)\n",
      "[ ] 3번째 손님 (소요시간: 41분)\n",
      "[0] 4번째 손님 (소요시간: 13분)\n",
      "[ ] 5번째 손님 (소요시간: 37분)\n",
      "[0] 6번째 손님 (소요시간: 11분)\n",
      "[ ] 7번째 손님 (소요시간: 47분)\n",
      "[0] 8번째 손님 (소요시간: 7분)\n",
      "[ ] 9번째 손님 (소요시간: 38분)\n",
      "[ ] 10번째 손님 (소요시간: 27분)\n",
      "[ ] 11번째 손님 (소요시간: 40분)\n",
      "[ ] 12번째 손님 (소요시간: 41분)\n",
      "[0] 13번째 손님 (소요시간: 11분)\n",
      "[0] 14번째 손님 (소요시간: 9분)\n",
      "[0] 15번째 손님 (소요시간: 8분)\n",
      "[0] 16번째 손님 (소요시간: 11분)\n",
      "[ ] 17번째 손님 (소요시간: 36분)\n",
      "[ ] 18번째 손님 (소요시간: 19분)\n",
      "[ ] 19번째 손님 (소요시간: 22분)\n",
      "[ ] 20번째 손님 (소요시간: 34분)\n",
      "[ ] 21번째 손님 (소요시간: 37분)\n",
      "[0] 22번째 손님 (소요시간: 10분)\n",
      "[ ] 23번째 손님 (소요시간: 32분)\n",
      "[ ] 24번째 손님 (소요시간: 43분)\n",
      "[0] 25번째 손님 (소요시간: 5분)\n",
      "[ ] 26번째 손님 (소요시간: 30분)\n",
      "[ ] 27번째 손님 (소요시간: 16분)\n",
      "[ ] 28번째 손님 (소요시간: 35분)\n",
      "[ ] 29번째 손님 (소요시간: 47분)\n",
      "[ ] 30번째 손님 (소요시간: 47분)\n",
      "[ ] 31번째 손님 (소요시간: 29분)\n",
      "[ ] 32번째 손님 (소요시간: 48분)\n",
      "[0] 33번째 손님 (소요시간: 6분)\n",
      "[0] 34번째 손님 (소요시간: 5분)\n",
      "[ ] 35번째 손님 (소요시간: 19분)\n",
      "[ ] 36번째 손님 (소요시간: 42분)\n",
      "[ ] 37번째 손님 (소요시간: 30분)\n",
      "[0] 38번째 손님 (소요시간: 6분)\n",
      "[ ] 39번째 손님 (소요시간: 27분)\n",
      "[0] 40번째 손님 (소요시간: 11분)\n",
      "[ ] 41번째 손님 (소요시간: 20분)\n",
      "[ ] 42번째 손님 (소요시간: 48분)\n",
      "[ ] 43번째 손님 (소요시간: 49분)\n",
      "[0] 44번째 손님 (소요시간: 11분)\n",
      "[ ] 45번째 손님 (소요시간: 44분)\n",
      "[ ] 46번째 손님 (소요시간: 39분)\n",
      "[ ] 47번째 손님 (소요시간: 40분)\n",
      "[ ] 48번째 손님 (소요시간: 32분)\n",
      "[ ] 49번째 손님 (소요시간: 39분)\n",
      "[ ] 50번째 손님 (소요시간: 48분)\n",
      "총 탑승 승객 14분\n"
     ]
    }
   ],
   "source": [
    "from random import *\n",
    "\n",
    "customer = 0\n",
    "for i in range(1,52):\n",
    "    time = randint(5,50)\n",
    "    if i != 51:\n",
    "        if 5 <= time <= 15:\n",
    "            print(\"[0] {}번째 손님 (소요시간: {}분)\". format(i, time))\n",
    "            customer += 1\n",
    "        else:\n",
    "            print(\"[ ] {}번째 손님 (소요시간: {}분)\". format(i, time))\n",
    "    else:\n",
    "        print(f\"총 탑승 승객 {customer}분\")\n"
   ]
  }
 ],
 "metadata": {
  "kernelspec": {
   "display_name": "Python 3",
   "language": "python",
   "name": "python3"
  },
  "language_info": {
   "codemirror_mode": {
    "name": "ipython",
    "version": 3
   },
   "file_extension": ".py",
   "mimetype": "text/x-python",
   "name": "python",
   "nbconvert_exporter": "python",
   "pygments_lexer": "ipython3",
   "version": "3.8.5"
  }
 },
 "nbformat": 4,
 "nbformat_minor": 4
}
