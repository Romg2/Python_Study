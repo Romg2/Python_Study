{
 "cells": [
  {
   "cell_type": "code",
   "execution_count": 2,
   "metadata": {},
   "outputs": [],
   "source": [
    "import requests\n",
    "from bs4  import BeautifulSoup\n",
    "\n",
    "headers = {\"User-Agent\":\"Mozilla/5.0 (Windows NT 10.0; Win64; x64) AppleWebKit/537.36 (KHTML, like Gecko) Chrome/88.0.4324.104 Safari/537.36\"}\n",
    "\n",
    "# 다음 검색 영화순위 - 이미지 저장하기\n",
    "for year in range(2015,2020):\n",
    "    \n",
    "    # 다음 홈페이지에 yyyy년영화순위 검색 결과 링크 - 연도는 직접 지정\n",
    "    url = \"https://search.daum.net/search?w=tot&q={}%EB%85%84%EC%98%81%ED%99%94%EC%88%9C%EC%9C%84&DA=MOR&rtmaxcoll=MOR\".format(year)\n",
    "\n",
    "    res = requests.get(url, headers=headers)\n",
    "    res.raise_for_status()\n",
    "\n",
    "    soup = BeautifulSoup(res.text, \"lxml\")\n",
    "\n",
    "    images = soup.find_all(\"img\", attrs={\"class\": \"thumb_img\"})\n",
    "\n",
    "    # enumerate: [a,b,c] 라는 리스트라면 -> 0,a / 1,b / 2,c 와 같이 index 번호를 같이 부여해줌\n",
    "    for idx, img in enumerate(images):\n",
    "        \n",
    "        # 이미지 정보가 있는 url 지정\n",
    "        image_url = img[\"src\"]\n",
    "        \n",
    "        if image_url.startswith(\"//\"): # startswith(): 00 단어로 시작하는 경우\n",
    "            image_url = \"https:\" + image_url\n",
    "        \n",
    "        # 이미지 url을 다시 requests를 이용해 불러옴\n",
    "        image_res = requests.get(image_url)\n",
    "        image_res.raise_for_status()\n",
    "\n",
    "        with open(\"C:/Users/ekzm3/Desktop/Github_kkd/Python_Study/나도코딩_웹스크래핑/다음 영화 이미지/movie{0}년_{1}위.jpg\"\\\n",
    "                  .format(year,idx+1), \"wb\") as f:\n",
    "            f.write(image_res.content) # content 정보를 사용\n",
    "\n",
    "        if idx >=4:\n",
    "            break"
   ]
  }
 ],
 "metadata": {
  "kernelspec": {
   "display_name": "Python 3",
   "language": "python",
   "name": "python3"
  },
  "language_info": {
   "codemirror_mode": {
    "name": "ipython",
    "version": 3
   },
   "file_extension": ".py",
   "mimetype": "text/x-python",
   "name": "python",
   "nbconvert_exporter": "python",
   "pygments_lexer": "ipython3",
   "version": "3.8.5"
  }
 },
 "nbformat": 4,
 "nbformat_minor": 4
}
