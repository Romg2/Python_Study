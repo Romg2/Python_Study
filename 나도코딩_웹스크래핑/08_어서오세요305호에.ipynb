{
 "cells": [
  {
   "cell_type": "code",
   "execution_count": 6,
   "metadata": {},
   "outputs": [
    {
     "name": "stdout",
     "output_type": "stream",
     "text": [
      "[11화] 정현의 변신, 그리고.. https://comic.naver.com/webtoon/detail.nhn?titleId=25735&no=11&weekday=thu\n",
      "[10화] 긴장해라, 홈.. https://comic.naver.com/webtoon/detail.nhn?titleId=25735&no=10&weekday=thu\n",
      "[9화] 홈에 대해 https://comic.naver.com/webtoon/detail.nhn?titleId=25735&no=9&weekday=thu\n",
      "[8화] 한 달의 약속 https://comic.naver.com/webtoon/detail.nhn?titleId=25735&no=8&weekday=thu\n",
      "[7화] 홈도 밟으면 꿈틀 https://comic.naver.com/webtoon/detail.nhn?titleId=25735&no=7&weekday=thu\n",
      "[6화] 패닉, 정현 https://comic.naver.com/webtoon/detail.nhn?titleId=25735&no=6&weekday=thu\n",
      "[5화] 홈의 방 https://comic.naver.com/webtoon/detail.nhn?titleId=25735&no=5&weekday=thu\n",
      "[4화] 칭찬하는 그들, 불쾌해진 정현 https://comic.naver.com/webtoon/detail.nhn?titleId=25735&no=4&weekday=thu\n",
      "[3화] 둘째 날 https://comic.naver.com/webtoon/detail.nhn?titleId=25735&no=3&weekday=thu\n",
      "[2화] 한 달 동안.. https://comic.naver.com/webtoon/detail.nhn?titleId=25735&no=2&weekday=thu\n"
     ]
    }
   ],
   "source": [
    "import requests\n",
    "from bs4  import BeautifulSoup\n",
    "\n",
    "# 네이버 웹툰: 어서오세요 305호에 첫 페이지 (회차 내림차순 정렬 되어있음)\n",
    "url = \"https://comic.naver.com/webtoon/list.nhn?titleId=25735\"\n",
    "res = requests.get(url)\n",
    "res.raise_for_status()\n",
    "\n",
    "soup = BeautifulSoup(res.text, \"lxml\")\n",
    "cartoons = soup.find_all(\"td\", attrs={\"class\":\"title\"})\n",
    "\n",
    "# 첫번째 정보의 a tag 제목 및 링크\n",
    "# title = cartoons[0].a.get_text()\n",
    "# link = cartoons[0].a[\"href\"]\n",
    "# print(title)\n",
    "# print(\"https://comic.naver.com\" + link)\n",
    "\n",
    "# 전체 제목과 링크\n",
    "for cartoon in cartoons:\n",
    "    title = cartoon.a.get_text()\n",
    "    link = \"https://comic.naver.com\" + cartoon.a[\"href\"]\n",
    "    print(title, link)"
   ]
  },
  {
   "cell_type": "code",
   "execution_count": 7,
   "metadata": {},
   "outputs": [
    {
     "name": "stdout",
     "output_type": "stream",
     "text": [
      "9.93\n",
      "9.96\n",
      "9.96\n",
      "9.96\n",
      "9.96\n",
      "9.96\n",
      "9.96\n",
      "9.96\n",
      "9.96\n",
      "9.96\n",
      "전체 점수 :  99.57000000000002\n",
      "평균 점수 :  9.96\n"
     ]
    }
   ],
   "source": [
    "# 평점 구하기\n",
    "total_rate = 0\n",
    "cartoons = soup.find_all(\"div\", attrs={\"class\":\"rating_type\"}) # class rating_type 인 div element 가져옴\n",
    "\n",
    "for cartoon in cartoons:\n",
    "    rate = cartoon.find(\"strong\").get_text() # div element 안에 strong element 가져옴 / cartoon.strong.get_text()\n",
    "    print(rate)\n",
    "    total_rate += float(rate)\n",
    "print(\"전체 점수 : \", total_rate)\n",
    "print(\"평균 점수 : \", round(total_rate / len(cartoons), 2) )"
   ]
  }
 ],
 "metadata": {
  "kernelspec": {
   "display_name": "Python 3",
   "language": "python",
   "name": "python3"
  },
  "language_info": {
   "codemirror_mode": {
    "name": "ipython",
    "version": 3
   },
   "file_extension": ".py",
   "mimetype": "text/x-python",
   "name": "python",
   "nbconvert_exporter": "python",
   "pygments_lexer": "ipython3",
   "version": "3.8.5"
  }
 },
 "nbformat": 4,
 "nbformat_minor": 4
}
