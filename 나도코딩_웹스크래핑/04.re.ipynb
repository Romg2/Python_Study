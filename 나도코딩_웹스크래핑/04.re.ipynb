{
 "cells": [
  {
   "cell_type": "markdown",
   "metadata": {},
   "source": [
    "### 정규식\n",
    "```python\n",
    "import re\n",
    "\n",
    "p = re.compile(\"원하는 정규식\")\n",
    "m = p.match(\"비교할 문자열\") # 주어진 문자열의 처음부터 일치하는지 확인\n",
    "m = p.search(\"비교할 문자열\") # 주어진 문자열 중에 일치하는게 있는지 확인\n",
    "lst = p.findall(\"비교할 문자열\") # 일치하는 모든 것을 \"리스트\" 형태로 반환\n",
    "```\n",
    "\n",
    "참고 사이트: [정규식, html 더 알아보기](http://w3schools.com)"
   ]
  },
  {
   "cell_type": "code",
   "execution_count": 4,
   "metadata": {},
   "outputs": [],
   "source": [
    "# 정규식\n",
    "import re\n",
    "\n",
    "# 차량 번호가 4가지 문자열 - abcd, fedf ...\n",
    "# ca?e 번호를 찾자\n",
    "\n",
    "# . (ca.e): 하나의 문자를 의미 - cage, cave\n",
    "# ^ (^de): 문자열의 시작 - desk, desert\n",
    "# $ (se$): 문자열의 끝 - case, base\n",
    "\n",
    "p = re.compile(\"ca.e\") \n",
    "p.match(\"case\")\n",
    "\n",
    "def print_match(m):\n",
    "    if m:\n",
    "        print(\"m.group():\", m.group()) # 일치하는 문자열 반환\n",
    "        print(\"m.string:\", m.string) # 입력받은 문자열\n",
    "        print(\"m.start():\", m.start()) # 일치하는 문자열의 시작 index\n",
    "        print(\"m.end():\", m.end()) # 일치하는 문자열의 끝 index\n",
    "        print(\"m.span():\", m.span()) # 일치하는 문자열의 시작 / 끝 index\n",
    "    else:\n",
    "        print(\"매칭되지 않음\")"
   ]
  },
  {
   "cell_type": "code",
   "execution_count": 13,
   "metadata": {},
   "outputs": [
    {
     "name": "stdout",
     "output_type": "stream",
     "text": [
      "m.group(): care\n",
      "m.string: careless\n",
      "m.start(): 0\n",
      "m.end(): 4\n",
      "m.span(): (0, 4)\n"
     ]
    }
   ],
   "source": [
    "m = p.match(\"careless\") # match: 주어진 문자열의 처음부터 일치하는지 확인\n",
    "print_match(m)"
   ]
  },
  {
   "cell_type": "code",
   "execution_count": 14,
   "metadata": {},
   "outputs": [
    {
     "name": "stdout",
     "output_type": "stream",
     "text": [
      "m.group(): care\n",
      "m.string: good care\n",
      "m.start(): 5\n",
      "m.end(): 9\n",
      "m.span(): (5, 9)\n"
     ]
    }
   ],
   "source": [
    "m = p.search(\"good care\") # search: 주어진 문자열 중에 일치하는게 있는지 확인\n",
    "print_match(m)"
   ]
  },
  {
   "cell_type": "code",
   "execution_count": 15,
   "metadata": {},
   "outputs": [
    {
     "name": "stdout",
     "output_type": "stream",
     "text": [
      "['care', 'cafe']\n"
     ]
    }
   ],
   "source": [
    "lst = p.findall(\"good care cafe\") # findall: 일치하는 모든 것을 리스트 형태로 반환\n",
    "print(lst)"
   ]
  }
 ],
 "metadata": {
  "kernelspec": {
   "display_name": "Python 3",
   "language": "python",
   "name": "python3"
  },
  "language_info": {
   "codemirror_mode": {
    "name": "ipython",
    "version": 3
   },
   "file_extension": ".py",
   "mimetype": "text/x-python",
   "name": "python",
   "nbconvert_exporter": "python",
   "pygments_lexer": "ipython3",
   "version": "3.8.5"
  }
 },
 "nbformat": 4,
 "nbformat_minor": 4
}
