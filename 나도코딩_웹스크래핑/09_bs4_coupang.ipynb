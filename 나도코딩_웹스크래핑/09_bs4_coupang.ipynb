{
 "cells": [
  {
   "cell_type": "code",
   "execution_count": 7,
   "metadata": {},
   "outputs": [
    {
     "name": "stdout",
     "output_type": "stream",
     "text": [
      "LG PC그램 14Z960 6세대 i5탑재 윈도우10 사은품 증정, 8GB, SSD 256GB, 윈도우 10\n"
     ]
    }
   ],
   "source": [
    "import requests\n",
    "import re\n",
    "from bs4  import BeautifulSoup\n",
    "\n",
    "# HTTP METHOD\n",
    "# GET https://www.coupang.com/np/search?q=%EB%85%B8%ED%8A%B8%EB%B6%81&channel=user&component=&eventCategory=SRP&trcid=&traid=&sorter=scoreDesc&minPrice=&maxPrice=&priceRange=&filterType=&listSize=36&filter=&isPriceRange=false&brand=&offerCondition=&rating=0&page=5&rocketAll=false&searchIndexingToken=&backgroundColor=\n",
    "# ㄴ URL 형식\n",
    "# POST - 주소는 같을 때?\n",
    "\n",
    "# 쿠팡에서 노트북 검색시 url\n",
    "url = \"https://www.coupang.com/np/search?q=%EB%85%B8%ED%8A%B8%EB%B6%81&channel=user&component=&eventCategory=SRP&trcid=&traid=&sorter=scoreDesc&minPrice=&maxPrice=&priceRange=&filterType=&listSize=36&filter=&isPriceRange=false&brand=&offerCondition=&rating=0&page=1&rocketAll=false&searchIndexingToken=&backgroundColor=\"\n",
    "headers = {\"User-Agent\":\"Mozilla/5.0 (Windows NT 10.0; Win64; x64) AppleWebKit/537.36 (KHTML, like Gecko) Chrome/88.0.4324.104 Safari/537.36\"}\n",
    "\n",
    "res = requests.get(url, headers=headers)\n",
    "res.raise_for_status()\n",
    "\n",
    "soup = BeautifulSoup(res.text, \"lxml\")\n",
    "\n",
    "# 각 상품은 li tag 이며 class는 search-product로 시작한다.\n",
    "items = soup.find_all(\"li\", attrs={\"class\":re.compile(\"^search-product\")})\n",
    "# 상품의 이름 정보를 확인하여 출력\n",
    "print(items[0].find(\"div\", attrs={\"class\":\"name\"}).get_text())"
   ]
  },
  {
   "cell_type": "code",
   "execution_count": 11,
   "metadata": {},
   "outputs": [
    {
     "name": "stdout",
     "output_type": "stream",
     "text": [
      "로켓 배송만 포함합니다\n",
      "Apple 2020년 맥북 프로 13 (M1 칩셋 8코어 CPU 8코어 GPU), 8GB, SSD 512GB, 스페이스 그레이☆1,785,000☆5.0☆575\n",
      "삼성전자 제품 제외\n",
      "레노버 아이디어패드 Platinum Grey 노트북 S150-11 81VT (Intel Celeron N4020 29.5cm WIN10 Home S), 윈도우 포함, 64GB, 4GB☆275,800☆4.5☆113\n",
      "로켓 배송만 포함합니다\n",
      "로켓 배송만 포함합니다\n",
      "로켓 배송만 포함합니다\n",
      "삼성전자 제품 제외\n",
      "로켓 배송만 포함합니다\n",
      "레노버 ideapad 그레이 노트북 Slim1-14IGL05 (셀러론 N4020 35.6cm WIN10 S), 윈도우 포함, 64GB, 4GB☆295,750☆5.0☆54\n",
      "레노버 아이디어패드 Ice Blue 노트북 S150-11 81VT (Intel Celeron N4020 29.5cm WIN10 Home S), 윈도우 포함, 64GB, 4GB☆275,800☆4.5☆89\n",
      "삼성전자 제품 제외\n",
      "로켓 배송만 포함합니다\n",
      "델 Inspiron 15 5505 플래티넘 실버 노트북 DN5505-WH01KR (라이젠5-4500U 39.6cm WIN10 Home), 윈도우 포함, 256GB, 8GB☆749,000☆4.5☆174\n",
      "Apple 2020년 맥북 에어 13, M1 8-Core, 8GB, SSD 256GB, 스페이스 그레이☆1,264,200☆5.0☆815\n",
      "삼성전자 제품 제외\n",
      "LG전자 울트라 화이트 노트북 14U390-ME1TK (셀러론-N4100 35.5cm WIN10 S), 포함, 576GB, 8GB☆628,600☆4.5☆66\n",
      "삼성전자 제품 제외\n",
      "HP 파빌리온 x360 14 Forest Teal 노트북 dw1049TU (i5-1135G7 35.56cm WIN10 Home), 윈도우 포함, 256GB, 8GB☆927,410☆5.0☆56\n",
      "삼성전자 제품 제외\n",
      "삼성전자 제품 제외\n",
      "LG전자 울트라 화이트 노트북 14U390-ME1TK (셀러론-N4100 35.5cm WIN10 S), 포함, 192GB, 8GB☆581,100☆4.5☆66\n",
      "삼성전자 제품 제외\n",
      "삼성전자 제품 제외\n",
      "LG전자 울트라PC 노트북 15U40N-GR56K (라이젠5-4500U 39.6cm WIN10 Home), 윈도우 포함, 256GB, 8GB☆999,000☆5.0☆153\n",
      "LG전자 2020 그램15 노트북 15Z90N-VR56K (i5-1035G7 39.6cm), NVMe 512GB, 8GB, WIN10 Home☆1,593,130☆5.0☆108\n",
      "레노버 노트북 V14-ARE 82DQ003AKR (R5-4500U 35.56cm), 윈도우 미포함, 256GB, 4GB☆469,000☆4.5☆207\n",
      "LG전자 울트라PC 화이트 노트북 15UD40N-GX56K (라이젠5-4500U 39.6cm), 윈도우 미포함, 256GB, 8GB☆846,750☆5.0☆102\n",
      "Apple 2020년 맥북 프로 13 (M1 칩셋 8코어 CPU 8코어 GPU), 16GB, SSD 512GB, 스페이스 그레이☆2,116,200☆5.0☆575\n",
      "삼성전자 제품 제외\n",
      "삼성전자 제품 제외\n",
      "LG전자 그램17 스노우 화이트 노트북 17Z90P-GA56K (i5-1135G7 43.1cm WIN10 Home), 포함, NVMe 512GB, 8GB☆2,099,000☆5.0☆216\n",
      "레노버 Flex 5 노트북 14ARE R3 W10S (라이젠3-4300U 35.5cm Radeon Graphics WIN10 S), 윈도우 포함, 128GB, 8GB☆729,000☆4.5☆51\n"
     ]
    }
   ],
   "source": [
    "for i in items:\n",
    "    # 로켓배송 제외\n",
    "    rocket = i.find(\"span\", attrs={\"class\":\"badge rocket\"})\n",
    "    if not rocket:\n",
    "        print(\"로켓 배송만 포함합니다\")\n",
    "        continue\n",
    "        \n",
    "    # 삼성전자 상품 제외\n",
    "    name = i.find(\"div\", attrs={\"class\":\"name\"}).get_text() # 제품명\n",
    "    if \"삼성전자\" in name:\n",
    "        print(\"삼성전자 제품 제외\")\n",
    "        continue\n",
    "\n",
    "    price = i.find(\"strong\", attrs={\"class\":\"price-value\"}).get_text() # 가격\n",
    "\n",
    "    # 리뷰 50개 이상, 평점 4.2 이상만 조회\n",
    "    rate = i.find(\"em\", attrs={\"class\":\"rating\"}) # 평점 - 평점이 없는 경우가 있었음\n",
    "    if rate:\n",
    "        rate = rate.get_text()\n",
    "    else:\n",
    "        print(\"평점 없음\")\n",
    "        continue\n",
    "\n",
    "    rate_cnt = i.find(\"span\", attrs={\"class\":\"rating-total-count\"}) # 평점 수 (30)\n",
    "    if rate_cnt:\n",
    "        rate_cnt = rate_cnt.get_text()\n",
    "        rate_cnt = rate_cnt[1:-1] # 평점 수 옆의 괄호 제거\n",
    "    else:\n",
    "        print(\"평점 수 없음\")\n",
    "        continue\n",
    "\n",
    "    if float(rate) >= 4.2 and int(rate_cnt) >= 50:\n",
    "        print(name, price, rate, rate_cnt, sep=\"☆\")"
   ]
  }
 ],
 "metadata": {
  "kernelspec": {
   "display_name": "Python 3",
   "language": "python",
   "name": "python3"
  },
  "language_info": {
   "codemirror_mode": {
    "name": "ipython",
    "version": 3
   },
   "file_extension": ".py",
   "mimetype": "text/x-python",
   "name": "python",
   "nbconvert_exporter": "python",
   "pygments_lexer": "ipython3",
   "version": "3.8.5"
  }
 },
 "nbformat": 4,
 "nbformat_minor": 4
}
