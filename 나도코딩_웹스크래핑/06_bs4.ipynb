{
 "cells": [
  {
   "cell_type": "code",
   "execution_count": 5,
   "metadata": {},
   "outputs": [
    {
     "name": "stdout",
     "output_type": "stream",
     "text": [
      "<title>네이버 만화 &gt; 요일별  웹툰 &gt; 전체웹툰</title>\n",
      "네이버 만화 > 요일별  웹툰 > 전체웹툰\n",
      "<a href=\"#menu\" onclick=\"document.getElementById('menu').tabIndex=-1;document.getElementById('menu').focus();return false;\"><span>메인 메뉴로 바로가기</span></a>\n",
      "{'href': '#menu', 'onclick': \"document.getElementById('menu').tabIndex=-1;document.getElementById('menu').focus();return false;\"}\n",
      "#menu\n"
     ]
    }
   ],
   "source": [
    "import requests\n",
    "from bs4 import BeautifulSoup\n",
    "\n",
    "# 네이버 웹툰\n",
    "url = \"https://comic.naver.com/webtoon/weekday.nhn\"\n",
    "res = requests.get(url)\n",
    "res.raise_for_status()\n",
    "\n",
    "# pip install lxml\n",
    "soup = BeautifulSoup(res.text, \"lxml\") # soup 객체의 html 정보를 모두 담음\n",
    "\n"
   ]
  },
  {
   "cell_type": "code",
   "execution_count": 7,
   "metadata": {},
   "outputs": [
    {
     "name": "stdout",
     "output_type": "stream",
     "text": [
      "<title>네이버 만화 &gt; 요일별  웹툰 &gt; 전체웹툰</title>\n",
      "네이버 만화 > 요일별  웹툰 > 전체웹툰\n"
     ]
    }
   ],
   "source": [
    "print(soup.title)\n",
    "print(soup.title.get_text())"
   ]
  },
  {
   "cell_type": "code",
   "execution_count": 8,
   "metadata": {},
   "outputs": [
    {
     "name": "stdout",
     "output_type": "stream",
     "text": [
      "<a href=\"#menu\" onclick=\"document.getElementById('menu').tabIndex=-1;document.getElementById('menu').focus();return false;\"><span>메인 메뉴로 바로가기</span></a>\n"
     ]
    }
   ],
   "source": [
    "print(soup.a) # soup 객체에서 처음 발견되는 a element 출력"
   ]
  },
  {
   "cell_type": "code",
   "execution_count": 9,
   "metadata": {},
   "outputs": [
    {
     "name": "stdout",
     "output_type": "stream",
     "text": [
      "{'href': '#menu', 'onclick': \"document.getElementById('menu').tabIndex=-1;document.getElementById('menu').focus();return false;\"}\n"
     ]
    }
   ],
   "source": [
    "print(soup.a.attrs) # a element 의 속성 정보 출력"
   ]
  },
  {
   "cell_type": "code",
   "execution_count": 10,
   "metadata": {},
   "outputs": [
    {
     "name": "stdout",
     "output_type": "stream",
     "text": [
      "#menu\n"
     ]
    }
   ],
   "source": [
    "print(soup.a[\"href\"]) # a element 의 href 정보"
   ]
  },
  {
   "cell_type": "code",
   "execution_count": 17,
   "metadata": {},
   "outputs": [
    {
     "name": "stdout",
     "output_type": "stream",
     "text": [
      "<a href=\"/webtoon/detail.nhn?titleId=703852&amp;no=146\" onclick=\"nclk_v2(event,'rnk*p.cont','703852','1')\" title=\"바른연애 길잡이-146\">바른연애 길잡이-146</a>\n",
      "바른연애 길잡이-146\n"
     ]
    }
   ],
   "source": [
    " # class=\"Nbtn_upload\" 인 a element 를 찾아줘\n",
    "soup.find(\"a\", attrs={\"class\":\"Nbtn_upload\"})\n",
    "# soup.find(attrs={\"class\":\"Nbtn_upload\"})\n",
    "\n",
    "# li tag 밑의 tag 정보 \n",
    "rank1 = soup.find(\"li\", attrs={\"class\":\"rank01\"})\n",
    "print(rank1.a)\n",
    "print(rank1.a.get_text())"
   ]
  },
  {
   "cell_type": "code",
   "execution_count": 18,
   "metadata": {},
   "outputs": [
    {
     "name": "stdout",
     "output_type": "stream",
     "text": [
      "고수-2부 144화\n",
      "급식아빠-14화 학폭 아이돌\n",
      "급식아빠-14화 학폭 아이돌\n",
      "급식아빠-14화 학폭 아이돌\n"
     ]
    }
   ],
   "source": [
    "# 형제 찾기\n",
    "rank2 = rank1.next_sibling.next_sibling\n",
    "rank3 = rank2.next_sibling.next_sibling\n",
    "print(rank3.a.get_text())\n",
    "\n",
    "rank2 = rank3.previous_sibling.previous_sibling\n",
    "print(rank2.a.get_text())\n",
    "\n",
    "# 형제 찾기2\n",
    "rank2 = rank1.find_next_sibling(\"li\")\n",
    "print(rank2.a.get_text())\n",
    "\n",
    "rank2 = rank3.find_previous_sibling(\"li\")\n",
    "print(rank2.a.get_text())"
   ]
  },
  {
   "cell_type": "code",
   "execution_count": 21,
   "metadata": {},
   "outputs": [
    {
     "name": "stdout",
     "output_type": "stream",
     "text": [
      "<ol class=\"asideBoxRank\" id=\"realTimeRankFavorite\">\n",
      "<li class=\"rank01\">\n",
      "<a href=\"/webtoon/detail.nhn?titleId=703852&amp;no=146\" onclick=\"nclk_v2(event,'rnk*p.cont','703852','1')\" title=\"바른연애 길잡이-146\">바른연애 길잡이-146</a>\n",
      "<span class=\"rankBox\">\n",
      "<img alt=\"변동없음\" height=\"10\" src=\"https://ssl.pstatic.net/static/comic/images/migration/common/arrow_no.gif\" title=\"변동없음\" width=\"7\"/> 0\n",
      "\t\t\t\t\t\t\n",
      "\t\t\t\t\t\n",
      "\t\t\t\t</span>\n",
      "</li>\n",
      "<li class=\"rank02\">\n",
      "<a href=\"/webtoon/detail.nhn?titleId=758662&amp;no=14\" onclick=\"nclk_v2(event,'rnk*p.cont','758662','2')\" title=\"급식아빠-14화 학폭 아이돌\">급식아빠-14화 학폭 아이돌</a>\n",
      "<span class=\"rankBox\">\n",
      "<img alt=\"변동없음\" height=\"10\" src=\"https://ssl.pstatic.net/static/comic/images/migration/common/arrow_no.gif\" title=\"변동없음\" width=\"7\"/> 0\n",
      "\t\t\t\t\t\t\n",
      "\t\t\t\t\t\n",
      "\t\t\t\t</span>\n",
      "</li>\n",
      "<li class=\"rank03\">\n",
      "<a href=\"/webtoon/detail.nhn?titleId=662774&amp;no=234\" onclick=\"nclk_v2(event,'rnk*p.cont','662774','3')\" title=\"고수-2부 144화\">고수-2부 144화</a>\n",
      "<span class=\"rankBox\">\n",
      "<img alt=\"변동없음\" height=\"10\" src=\"https://ssl.pstatic.net/static/comic/images/migration/common/arrow_no.gif\" title=\"변동없음\" width=\"7\"/> 0\n",
      "\t\t\t\t\t\t\n",
      "\t\t\t\t\t\n",
      "\t\t\t\t</span>\n",
      "</li>\n",
      "<li class=\"rank04\">\n",
      "<a href=\"/webtoon/detail.nhn?titleId=747269&amp;no=49\" onclick=\"nclk_v2(event,'rnk*p.cont','747269','4')\" title=\"전지적 독자 시점-048. Ep.10 미래 전쟁 (5)\">전지적 독자 시점-048. Ep.10 미래 전쟁 (5)</a>\n",
      "<span class=\"rankBox\">\n",
      "<img alt=\"변동없음\" height=\"10\" src=\"https://ssl.pstatic.net/static/comic/images/migration/common/arrow_no.gif\" title=\"변동없음\" width=\"7\"/> 0\n",
      "\t\t\t\t\t\t\n",
      "\t\t\t\t\t\n",
      "\t\t\t\t</span>\n",
      "</li>\n",
      "<li class=\"rank05\">\n",
      "<a href=\"/webtoon/detail.nhn?titleId=626907&amp;no=342\" onclick=\"nclk_v2(event,'rnk*p.cont','626907','5')\" title=\"복학왕-340화 신부 입장\">복학왕-340화 신부 입장</a>\n",
      "<span class=\"rankBox\">\n",
      "<img alt=\"변동없음\" height=\"10\" src=\"https://ssl.pstatic.net/static/comic/images/migration/common/arrow_no.gif\" title=\"변동없음\" width=\"7\"/> 0\n",
      "\t\t\t\t\t\t\n",
      "\t\t\t\t\t\n",
      "\t\t\t\t</span>\n",
      "</li>\n",
      "<li class=\"rank06\">\n",
      "<a href=\"/webtoon/detail.nhn?titleId=738694&amp;no=52\" onclick=\"nclk_v2(event,'rnk*p.cont','738694','6')\" title=\"튜토리얼 탑의 고인물-52화\">튜토리얼 탑의 고인물-52화</a>\n",
      "<span class=\"rankBox\">\n",
      "<img alt=\"변동없음\" height=\"10\" src=\"https://ssl.pstatic.net/static/comic/images/migration/common/arrow_no.gif\" title=\"변동없음\" width=\"7\"/> 0\n",
      "\t\t\t\t\t\t\n",
      "\t\t\t\t\t\n",
      "\t\t\t\t</span>\n",
      "</li>\n",
      "<li class=\"rank07\">\n",
      "<a href=\"/webtoon/detail.nhn?titleId=738143&amp;no=71\" onclick=\"nclk_v2(event,'rnk*p.cont','738143','7')\" title=\"여주실격!-특별편 2화 메리대\">여주실격!-특별편 2화 메리대</a>\n",
      "<span class=\"rankBox\">\n",
      "<img alt=\"순위상승\" height=\"10\" src=\"https://ssl.pstatic.net/static/comic/images/migration/common/arrow_up.gif\" title=\"순위상승\" width=\"7\"/>1\n",
      "\t\t\t\t\t\t\n",
      "\t\t\t\t\t\t\n",
      "\t\t\t\t\t\n",
      "\t\t\t\t</span>\n",
      "</li>\n",
      "<li class=\"rank08\">\n",
      "<a href=\"/webtoon/detail.nhn?titleId=750184&amp;no=38\" onclick=\"nclk_v2(event,'rnk*p.cont','750184','8')\" title=\"나쁜사람-38화\">나쁜사람-38화</a>\n",
      "<span class=\"rankBox\">\n",
      "<img alt=\"순위하락\" height=\"10\" src=\"https://ssl.pstatic.net/static/comic/images/migration/common/arrow_down.gif\" title=\"순위하락\" width=\"7\"/>1\n",
      "\t\t\t\t\t\t\n",
      "\t\t\t\t\t\t\n",
      "\t\t\t\t\t\t\n",
      "\t\t\t\t\t\n",
      "\t\t\t\t</span>\n",
      "</li>\n",
      "<li class=\"rank09\">\n",
      "<a href=\"/webtoon/detail.nhn?titleId=733079&amp;no=78\" onclick=\"nclk_v2(event,'rnk*p.cont','733079','9')\" title=\"원수를 사랑하라-78화\">원수를 사랑하라-78화</a>\n",
      "<span class=\"rankBox\">\n",
      "<img alt=\"변동없음\" height=\"10\" src=\"https://ssl.pstatic.net/static/comic/images/migration/common/arrow_no.gif\" title=\"변동없음\" width=\"7\"/> 0\n",
      "\t\t\t\t\t\t\n",
      "\t\t\t\t\t\n",
      "\t\t\t\t</span>\n",
      "</li>\n",
      "<li class=\"rank10\">\n",
      "<a href=\"/webtoon/detail.nhn?titleId=667573&amp;no=271\" onclick=\"nclk_v2(event,'rnk*p.cont','667573','10')\" title=\"연놈-271화. 이 문을 벗어 나면\">연놈-271화. 이 문을 벗어 나면</a>\n",
      "<span class=\"rankBox\">\n",
      "<img alt=\"변동없음\" height=\"10\" src=\"https://ssl.pstatic.net/static/comic/images/migration/common/arrow_no.gif\" title=\"변동없음\" width=\"7\"/> 0\n",
      "\t\t\t\t\t\t\n",
      "\t\t\t\t\t\n",
      "\t\t\t\t</span>\n",
      "</li>\n",
      "</ol>\n"
     ]
    }
   ],
   "source": [
    "# 부모 찾기\n",
    "print(rank1.parent) # li tag의 상위 ol tag 확인"
   ]
  },
  {
   "cell_type": "code",
   "execution_count": 22,
   "metadata": {},
   "outputs": [
    {
     "name": "stdout",
     "output_type": "stream",
     "text": [
      "[<li class=\"rank02\">\n",
      "<a href=\"/webtoon/detail.nhn?titleId=758662&amp;no=14\" onclick=\"nclk_v2(event,'rnk*p.cont','758662','2')\" title=\"급식아빠-14화 학폭 아이돌\">급식아빠-14화 학폭 아이돌</a>\n",
      "<span class=\"rankBox\">\n",
      "<img alt=\"변동없음\" height=\"10\" src=\"https://ssl.pstatic.net/static/comic/images/migration/common/arrow_no.gif\" title=\"변동없음\" width=\"7\"/> 0\n",
      "\t\t\t\t\t\t\n",
      "\t\t\t\t\t\n",
      "\t\t\t\t</span>\n",
      "</li>, <li class=\"rank03\">\n",
      "<a href=\"/webtoon/detail.nhn?titleId=662774&amp;no=234\" onclick=\"nclk_v2(event,'rnk*p.cont','662774','3')\" title=\"고수-2부 144화\">고수-2부 144화</a>\n",
      "<span class=\"rankBox\">\n",
      "<img alt=\"변동없음\" height=\"10\" src=\"https://ssl.pstatic.net/static/comic/images/migration/common/arrow_no.gif\" title=\"변동없음\" width=\"7\"/> 0\n",
      "\t\t\t\t\t\t\n",
      "\t\t\t\t\t\n",
      "\t\t\t\t</span>\n",
      "</li>, <li class=\"rank04\">\n",
      "<a href=\"/webtoon/detail.nhn?titleId=747269&amp;no=49\" onclick=\"nclk_v2(event,'rnk*p.cont','747269','4')\" title=\"전지적 독자 시점-048. Ep.10 미래 전쟁 (5)\">전지적 독자 시점-048. Ep.10 미래 전쟁 (5)</a>\n",
      "<span class=\"rankBox\">\n",
      "<img alt=\"변동없음\" height=\"10\" src=\"https://ssl.pstatic.net/static/comic/images/migration/common/arrow_no.gif\" title=\"변동없음\" width=\"7\"/> 0\n",
      "\t\t\t\t\t\t\n",
      "\t\t\t\t\t\n",
      "\t\t\t\t</span>\n",
      "</li>, <li class=\"rank05\">\n",
      "<a href=\"/webtoon/detail.nhn?titleId=626907&amp;no=342\" onclick=\"nclk_v2(event,'rnk*p.cont','626907','5')\" title=\"복학왕-340화 신부 입장\">복학왕-340화 신부 입장</a>\n",
      "<span class=\"rankBox\">\n",
      "<img alt=\"변동없음\" height=\"10\" src=\"https://ssl.pstatic.net/static/comic/images/migration/common/arrow_no.gif\" title=\"변동없음\" width=\"7\"/> 0\n",
      "\t\t\t\t\t\t\n",
      "\t\t\t\t\t\n",
      "\t\t\t\t</span>\n",
      "</li>, <li class=\"rank06\">\n",
      "<a href=\"/webtoon/detail.nhn?titleId=738694&amp;no=52\" onclick=\"nclk_v2(event,'rnk*p.cont','738694','6')\" title=\"튜토리얼 탑의 고인물-52화\">튜토리얼 탑의 고인물-52화</a>\n",
      "<span class=\"rankBox\">\n",
      "<img alt=\"변동없음\" height=\"10\" src=\"https://ssl.pstatic.net/static/comic/images/migration/common/arrow_no.gif\" title=\"변동없음\" width=\"7\"/> 0\n",
      "\t\t\t\t\t\t\n",
      "\t\t\t\t\t\n",
      "\t\t\t\t</span>\n",
      "</li>, <li class=\"rank07\">\n",
      "<a href=\"/webtoon/detail.nhn?titleId=738143&amp;no=71\" onclick=\"nclk_v2(event,'rnk*p.cont','738143','7')\" title=\"여주실격!-특별편 2화 메리대\">여주실격!-특별편 2화 메리대</a>\n",
      "<span class=\"rankBox\">\n",
      "<img alt=\"순위상승\" height=\"10\" src=\"https://ssl.pstatic.net/static/comic/images/migration/common/arrow_up.gif\" title=\"순위상승\" width=\"7\"/>1\n",
      "\t\t\t\t\t\t\n",
      "\t\t\t\t\t\t\n",
      "\t\t\t\t\t\n",
      "\t\t\t\t</span>\n",
      "</li>, <li class=\"rank08\">\n",
      "<a href=\"/webtoon/detail.nhn?titleId=750184&amp;no=38\" onclick=\"nclk_v2(event,'rnk*p.cont','750184','8')\" title=\"나쁜사람-38화\">나쁜사람-38화</a>\n",
      "<span class=\"rankBox\">\n",
      "<img alt=\"순위하락\" height=\"10\" src=\"https://ssl.pstatic.net/static/comic/images/migration/common/arrow_down.gif\" title=\"순위하락\" width=\"7\"/>1\n",
      "\t\t\t\t\t\t\n",
      "\t\t\t\t\t\t\n",
      "\t\t\t\t\t\t\n",
      "\t\t\t\t\t\n",
      "\t\t\t\t</span>\n",
      "</li>, <li class=\"rank09\">\n",
      "<a href=\"/webtoon/detail.nhn?titleId=733079&amp;no=78\" onclick=\"nclk_v2(event,'rnk*p.cont','733079','9')\" title=\"원수를 사랑하라-78화\">원수를 사랑하라-78화</a>\n",
      "<span class=\"rankBox\">\n",
      "<img alt=\"변동없음\" height=\"10\" src=\"https://ssl.pstatic.net/static/comic/images/migration/common/arrow_no.gif\" title=\"변동없음\" width=\"7\"/> 0\n",
      "\t\t\t\t\t\t\n",
      "\t\t\t\t\t\n",
      "\t\t\t\t</span>\n",
      "</li>, <li class=\"rank10\">\n",
      "<a href=\"/webtoon/detail.nhn?titleId=667573&amp;no=271\" onclick=\"nclk_v2(event,'rnk*p.cont','667573','10')\" title=\"연놈-271화. 이 문을 벗어 나면\">연놈-271화. 이 문을 벗어 나면</a>\n",
      "<span class=\"rankBox\">\n",
      "<img alt=\"변동없음\" height=\"10\" src=\"https://ssl.pstatic.net/static/comic/images/migration/common/arrow_no.gif\" title=\"변동없음\" width=\"7\"/> 0\n",
      "\t\t\t\t\t\t\n",
      "\t\t\t\t\t\n",
      "\t\t\t\t</span>\n",
      "</li>]\n"
     ]
    }
   ],
   "source": [
    "# 한번에 형제 찾기\n",
    "print(rank1.find_next_siblings(\"li\"))"
   ]
  },
  {
   "cell_type": "code",
   "execution_count": 24,
   "metadata": {},
   "outputs": [
    {
     "name": "stdout",
     "output_type": "stream",
     "text": [
      "<a href=\"/webtoon/detail.nhn?titleId=703852&amp;no=146\" onclick=\"nclk_v2(event,'rnk*p.cont','703852','1')\" title=\"바른연애 길잡이-146\">바른연애 길잡이-146</a>\n"
     ]
    }
   ],
   "source": [
    "# text를 이용해서 찾기 \n",
    "webtoon = soup.find(\"a\", text=\"바른연애 길잡이-146\")\n",
    "print(webtoon)"
   ]
  },
  {
   "cell_type": "code",
   "execution_count": 39,
   "metadata": {},
   "outputs": [
    {
     "name": "stdout",
     "output_type": "stream",
     "text": [
      "2위: 급식아빠-14화 학폭 아이돌\n",
      "3위: 고수-2부 144화\n",
      "4위: 전지적 독자 시점-048. Ep.10 미래 전쟁 (5)\n",
      "5위: 복학왕-340화 신부 입장\n",
      "6위: 튜토리얼 탑의 고인물-52화\n",
      "7위: 여주실격!-특별편 2화 메리대\n",
      "8위: 나쁜사람-38화\n",
      "9위: 원수를 사랑하라-78화\n",
      "10위: 연놈-271화. 이 문을 벗어 나면\n"
     ]
    }
   ],
   "source": [
    "# 인기 급상승 만화 확인\n",
    "# 형제 찾기로 rank02부터 class 확인 후 for문 이용해서 text 출력\n",
    "rank = rank1.find_next_siblings(\"li\")\n",
    "\n",
    "for row, i in enumerate(rank):\n",
    "    print(f\"{row + 2}위: {i.a.get_text()}\")"
   ]
  }
 ],
 "metadata": {
  "kernelspec": {
   "display_name": "Python 3",
   "language": "python",
   "name": "python3"
  },
  "language_info": {
   "codemirror_mode": {
    "name": "ipython",
    "version": 3
   },
   "file_extension": ".py",
   "mimetype": "text/x-python",
   "name": "python",
   "nbconvert_exporter": "python",
   "pygments_lexer": "ipython3",
   "version": "3.8.5"
  }
 },
 "nbformat": 4,
 "nbformat_minor": 4
}
