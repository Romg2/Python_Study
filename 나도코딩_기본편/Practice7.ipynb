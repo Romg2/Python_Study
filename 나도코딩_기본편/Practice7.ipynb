{
 "cells": [
  {
   "cell_type": "code",
   "execution_count": 3,
   "metadata": {},
   "outputs": [
    {
     "name": "stdout",
     "output_type": "stream",
     "text": [
      "나누기 전용 계산기입니다.\n",
      "첫 번째 숫자를 입력하세요 : 10\n",
      "두 번째 숫자를 입력하세요 : 5\n",
      "알 수 없는 오류인 경우 출력\n",
      "list index out of range\n"
     ]
    }
   ],
   "source": [
    "# 예외 처리 except\n",
    "try:\n",
    "    print(\"나누기 전용 계산기입니다.\")\n",
    "    nums = []\n",
    "    nums.append(int(input(\"첫 번째 숫자를 입력하세요 : \")))\n",
    "    nums.append(int(input(\"두 번째 숫자를 입력하세요 : \")))\n",
    "    # nums.append(int(nums[0] / nums[1]))\n",
    "    print(\"{0} / {1} = {2}\".format(nums[0],nums[1], nums[2]))\n",
    "except ValueError:\n",
    "    print(\"에러! 잘못된 값을 입력하였습니다.\")\n",
    "except ZeroDivisionError as err:\n",
    "    print(err)\n",
    "# except:\n",
    "#     print(\"알 수 없는 오류\")\n",
    "except Exception as err:\n",
    "    print(\"알 수 없는 오류인 경우 출력\")\n",
    "    print(err)"
   ]
  },
  {
   "cell_type": "code",
   "execution_count": 6,
   "metadata": {},
   "outputs": [
    {
     "name": "stdout",
     "output_type": "stream",
     "text": [
      "한 자리 숫자 나누기 전용 계산기\n",
      "첫 번째 숫자 입력하시오 : 10\n",
      "두 번째 숫자 입력하시오 : 1\n",
      "에러 발생 한자리만 입력하세요.\n",
      "입력값 : 10, 1\n",
      "계산기를 이용해 주셔서 감사합니다.\n"
     ]
    }
   ],
   "source": [
    "# 사용자 정의 에러\n",
    "class BigNumberError(Exception):\n",
    "    def __init__(self, msg):\n",
    "        self.msg = msg\n",
    "    def __str__(self):\n",
    "        return self.msg\n",
    "\n",
    "# raise 의도적으로 에러 만들기\n",
    "# finally 에러발생여부 상관없이 무조건 실행\n",
    "try:\n",
    "    print(\"한 자리 숫자 나누기 전용 계산기\")\n",
    "    num1 = int(input(\"첫 번째 숫자 입력하시오 : \"))\n",
    "    num2 = int(input(\"두 번째 숫자 입력하시오 : \"))\n",
    "    if num1 >=10 or num2 >=10:\n",
    "        raise BigNumberError(\"입력값 : {0}, {1}\".format(num1,num2))\n",
    "    print(\"{0} / {1} = {2}\".format(num1, num2, int(num1/num2)))\n",
    "except ValueError as a:\n",
    "    print(\"잘못된 값 입력\")\n",
    "    print(a)\n",
    "except BigNumberError as err:\n",
    "    print(\"에러 발생 한자리만 입력하세요.\")\n",
    "    print(err)\n",
    "finally:\n",
    "    print(\"계산기를 이용해 주셔서 감사합니다.\")"
   ]
  },
  {
   "cell_type": "markdown",
   "metadata": {},
   "source": [
    "### Quiz 9\n",
    "동네에 항상 대기 손님이 있는 맛있는 치킨집이 있습니다.\n",
    "\n",
    "대기 손님의 치킨 요리 시간을 줄이고자 자동 주문 시스템을 제작하였습니다.\n",
    "\n",
    "시스템 코드를 확인하고 적절한 예외처리 구문을 넣으시오.\n",
    "\n",
    "- 조건1: 1보다 작거나 숫자가 아닌 입력값은 ValueError로 처리\n",
    "\n",
    "    출력메시지 : \"잘못된 값을 입력하였습니다.\"\n",
    "\n",
    "- 조건2: 주문 가능 최대 수는 10마리\n",
    "\n",
    "    치킨 소진시 사용자 정의 에러 SoldOutError 발생 후 프로그램 종료\n",
    "\n",
    "    출력메시지 : \"재고가 소진되어 더 이상 주문을 받지 않습니다.\"\n",
    "\n",
    "[코드]\n",
    "```python\n",
    "chicken = 10\n",
    "waiting = 1 # 홀 안에는 현재 만석. 대기번호 1부터 시작\n",
    "while(True):\n",
    "    print(\"[남은 치킨 : {0}]\". format(chicken))\n",
    "    order = int(input(\"치킨 몇 마리 주문하시겠습니까?\"))\n",
    "    if order > chicken: # 남은 치킨보다 주문량이 많을 때\n",
    "        print(\"재료가 부족합니다.\")\n",
    "    else:\n",
    "        print(\"[대기번호 {0}] {1} 마리 주문이 완료되었습니다.\" \\\n",
    "              .format(waitingm order))\n",
    "        waiting += 1\n",
    "        chicken -= order\n",
    "```"
   ]
  },
  {
   "cell_type": "code",
   "execution_count": 18,
   "metadata": {},
   "outputs": [
    {
     "name": "stdout",
     "output_type": "stream",
     "text": [
      "[남은 치킨 : 10]\n",
      "치킨 몇 마리 주문하시겠습니까?1\n",
      "[대기번호 1] 1 마리 주문이 완료되었습니다.\n",
      "[남은 치킨 : 9]\n",
      "치킨 몇 마리 주문하시겠습니까?5\n",
      "[대기번호 2] 5 마리 주문이 완료되었습니다.\n",
      "[남은 치킨 : 4]\n",
      "치킨 몇 마리 주문하시겠습니까?4\n",
      "[대기번호 3] 4 마리 주문이 완료되었습니다.\n",
      "재고가 소진되어 더 이상 주문을 받지 않습니다.\n"
     ]
    }
   ],
   "source": [
    "# 사용자 정의 에러\n",
    "class SoldOutError(Exception):\n",
    "    def __init__(self, msg):\n",
    "        self.msg = msg\n",
    "    \n",
    "    def __str__(self):\n",
    "        return self.msg\n",
    "\n",
    "chicken = 10\n",
    "waiting = 1\n",
    "\n",
    "try:\n",
    "    while(True):\n",
    "        print(\"[남은 치킨 : {0}]\". format(chicken))\n",
    "        order = int(input(\"치킨 몇 마리 주문하시겠습니까?\"))\n",
    "        if order <1:\n",
    "            raise ValueError\n",
    "        if order > chicken: # 남은 치킨보다 주문량이 많을 때\n",
    "            print(\"재료가 부족합니다.\")\n",
    "        else:\n",
    "            print(\"[대기번호 {0}] {1} 마리 주문이 완료되었습니다.\" \\\n",
    "                  .format(waiting, order))\n",
    "            waiting += 1\n",
    "            chicken -= order\n",
    "        if chicken == 0:\n",
    "            raise SoldOutError(\"재고가 소진되어 더 이상 주문을 받지 않습니다.\")\n",
    "except ValueError:\n",
    "    print(\"잘못된 값을 입력하였습니다.\")\n",
    "except SoldOutError as err:\n",
    "    print(err)"
   ]
  }
 ],
 "metadata": {
  "kernelspec": {
   "display_name": "Python 3",
   "language": "python",
   "name": "python3"
  },
  "language_info": {
   "codemirror_mode": {
    "name": "ipython",
    "version": 3
   },
   "file_extension": ".py",
   "mimetype": "text/x-python",
   "name": "python",
   "nbconvert_exporter": "python",
   "pygments_lexer": "ipython3",
   "version": "3.8.5"
  }
 },
 "nbformat": 4,
 "nbformat_minor": 4
}
