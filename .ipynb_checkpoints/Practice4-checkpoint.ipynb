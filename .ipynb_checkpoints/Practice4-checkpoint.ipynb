{
 "cells": [
  {
   "cell_type": "code",
   "execution_count": 4,
   "metadata": {},
   "outputs": [
    {
     "name": "stdout",
     "output_type": "stream",
     "text": [
      "새로운 계좌가 생성되었습니다.\n"
     ]
    }
   ],
   "source": [
    "# 함수 생성\n",
    "def open_account():\n",
    "    print(\"새로운 계좌가 생성되었습니다.\")\n",
    "\n",
    "open_account()"
   ]
  },
  {
   "cell_type": "code",
   "execution_count": 5,
   "metadata": {},
   "outputs": [],
   "source": [
    "# 변수 입력 함수 생성\n",
    "\n",
    "# 입금 함수\n",
    "def deposit(balance, money):\n",
    "    print(f\"입금이 완료되었습니다. 잔액은 {balance + money}원 입니다.\")\n",
    "    return balance + money\n",
    "\n",
    "# 출금 함수\n",
    "def withdraw(balance, money): # 출금\n",
    "    if balance >= money:\n",
    "        print(\"출금 완료: 잔액 {0}원\".format(balance-money))\n",
    "        return balance - money\n",
    "    else:\n",
    "        print(\"출금 실패. 잔액 {0}원\".format(balance))\n",
    "        return balance\n",
    "\n",
    "# 출금 함수 수수료 (저녁)\n",
    "def withdraw_night(balance, money):\n",
    "    commission = 100 # 수수료 100원\n",
    "    return commission, balance - money - commission"
   ]
  },
  {
   "cell_type": "code",
   "execution_count": 8,
   "metadata": {},
   "outputs": [
    {
     "name": "stdout",
     "output_type": "stream",
     "text": [
      "입금이 완료되었습니다. 잔액은 1000원 입니다.\n",
      "출금 실패. 잔액 1000원\n",
      "100 400\n"
     ]
    }
   ],
   "source": [
    "# 잔액\n",
    "balance = 0\n",
    "# 1000원 입금\n",
    "balance = deposit(balance, 1000) \n",
    "# 2000원 출금\n",
    "balance = withdraw(balance,2000)\n",
    "# 500원 출금 (저녁)\n",
    "commission, balance = withdraw_night(balance, 500)\n",
    "\n",
    "print(commission, balance)"
   ]
  },
  {
   "cell_type": "code",
   "execution_count": 9,
   "metadata": {},
   "outputs": [
    {
     "name": "stdout",
     "output_type": "stream",
     "text": [
      "이름: 유재석\t나이: 17\t주 사용언어: 파이썬\n",
      "이름: 유재석\t나이: 20\t주 사용언어: R\n"
     ]
    }
   ],
   "source": [
    "# 함수 기본값\n",
    "def profile(name, age = 17, main_lang = \"파이썬\"):\n",
    "    print(\"이름: {0}\\t나이: {1}\\t주 사용언어: {2}\"\\\n",
    "        .format(name, age, main_lang))\n",
    "\n",
    "profile(\"유재석\")\n",
    "profile(\"유재석\", 20, \"R\")"
   ]
  },
  {
   "cell_type": "code",
   "execution_count": 10,
   "metadata": {},
   "outputs": [
    {
     "name": "stdout",
     "output_type": "stream",
     "text": [
      "유재석 20 SAS\n"
     ]
    }
   ],
   "source": [
    "# 키워드\n",
    "def profile(name, age, main_lang):\n",
    "    print(name, age, main_lang)\n",
    "\n",
    "profile(name = \"유재석\", main_lang = \"SAS\", age = 20)"
   ]
  },
  {
   "cell_type": "code",
   "execution_count": 15,
   "metadata": {},
   "outputs": [
    {
     "name": "stdout",
     "output_type": "stream",
     "text": [
      "이름: 유재석\t나이: 20\t a b c d e \n",
      "이름: 유재석\t나이: 20\t a b \n"
     ]
    }
   ],
   "source": [
    "# 가변인자\n",
    "def profile(name, age, *language):\n",
    "    print(\"이름: {0}\\t나이: {1}\\t\".format(name, age), end = \" \") # end는 밑에 print가 줄바꿈안되고 옆으로 나옴\n",
    "    for lang in language:\n",
    "        print(lang, end = \" \")\n",
    "    print()\n",
    "\n",
    "profile(\"유재석\", 20, \"a\", \"b\", \"c\", \"d\", \"e\")\n",
    "profile(\"유재석\", 20, \"a\", \"b\")"
   ]
  },
  {
   "cell_type": "code",
   "execution_count": 25,
   "metadata": {},
   "outputs": [
    {
     "name": "stdout",
     "output_type": "stream",
     "text": [
      "전체 총: 10\n",
      "[함수 내] 남은 총 : 8\n",
      "전체 총: 10\n",
      "[함수 내] 남은 총 : 2\n"
     ]
    }
   ],
   "source": [
    "# 지역변수(로컬), 전역변수(글로벌)\n",
    "\n",
    "gun = 10\n",
    "def checkpoint(soldiers):\n",
    "    global gun # 전역 변수를 이 함수에서 사용\n",
    "    print(\"전체 총: {0}\".format(gun))\n",
    "    gun = gun - soldiers\n",
    "    print(\"[함수 내] 남은 총 : {0}\".format(gun))\n",
    "\n",
    "checkpoint(2)\n",
    "\n",
    "def checkpoint_ret(gun, soldiers):\n",
    "    print(\"전체 총: {0}\".format(gun))\n",
    "    gun = gun - soldiers\n",
    "    print(\"[함수 내] 남은 총 : {0}\".format(gun))\n",
    "    # return gun\n",
    "\n",
    "checkpoint_ret(10,8)"
   ]
  },
  {
   "cell_type": "markdown",
   "metadata": {},
   "source": [
    "### Quiz 6\n",
    "표준 체중 구하는 프로그램 작성\n",
    "\n",
    "성별에 따른 공식\n",
    "\n",
    "남자: 키(m) x 키(m) x 22\n",
    "\n",
    "여자: 키(m) x 키(m) x 21\n",
    "\n",
    "- 조건1: 표준 체중은 별도의 함수내에서 계산 / std_weight(height, gender)\n",
    "- 조건2: 표준 체중은 소수점 둘째자리까지 표시\n",
    "\n",
    "(출력 예제)\n",
    "\n",
    "키 175cm 남자의 표준 체중은 67.38kg 입니다."
   ]
  },
  {
   "cell_type": "code",
   "execution_count": 34,
   "metadata": {},
   "outputs": [
    {
     "name": "stdout",
     "output_type": "stream",
     "text": [
      "키 175cm 남자의 표준 체중은 67.38kg 입니다.\n",
      "키 160cm 여자의 표준 체중은 53.76kg 입니다.\n"
     ]
    }
   ],
   "source": [
    "def std_weight(height, gender):\n",
    "    if gender == \"남자\":\n",
    "        weight = pow(height/100,2) * 22\n",
    "    elif gender == \"여자\":\n",
    "        weight = pow(height/100,2) * 21\n",
    "    print(f\"키 {height}cm {gender}의 표준 체중은 {round(weight,2)}kg 입니다.\")\n",
    "    \n",
    "std_weight(175,\"남자\")\n",
    "std_weight(160,\"여자\")"
   ]
  }
 ],
 "metadata": {
  "kernelspec": {
   "display_name": "Python 3",
   "language": "python",
   "name": "python3"
  },
  "language_info": {
   "codemirror_mode": {
    "name": "ipython",
    "version": 3
   },
   "file_extension": ".py",
   "mimetype": "text/x-python",
   "name": "python",
   "nbconvert_exporter": "python",
   "pygments_lexer": "ipython3",
   "version": "3.8.5"
  }
 },
 "nbformat": 4,
 "nbformat_minor": 4
}
