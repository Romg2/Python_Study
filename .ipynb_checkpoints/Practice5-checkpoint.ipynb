{
 "cells": [
  {
   "cell_type": "code",
   "execution_count": 10,
   "metadata": {},
   "outputs": [
    {
     "name": "stdout",
     "output_type": "stream",
     "text": [
      "파이썬,자바?무엇이 더 재미있을까요?\n",
      "파이썬 자바\n"
     ]
    },
    {
     "name": "stderr",
     "output_type": "stream",
     "text": [
      "파이썬 자바\n"
     ]
    }
   ],
   "source": [
    "# 표준 입출력\n",
    "print(\"파이썬\", \"자바\", sep = \",\", end = \"?\")\n",
    "print(\"무엇이 더 재미있을까요?\")\n",
    "\n",
    "import sys\n",
    "print(\"파이썬\", \"자바\", file=sys.stdout) # 표준 출력\n",
    "print(\"파이썬\", \"자바\", file=sys.stderr) # 표준 에러"
   ]
  },
  {
   "cell_type": "code",
   "execution_count": 13,
   "metadata": {},
   "outputs": [
    {
     "name": "stdout",
     "output_type": "stream",
     "text": [
      "수학 0\n",
      "영어 50\n",
      "코딩 100\n",
      "수학:   0\n",
      "영어:  50\n",
      "코딩: 100\n",
      "대기번호: 001\n",
      "대기번호: 002\n"
     ]
    }
   ],
   "source": [
    "# 출력형식 변경\n",
    "scores = {\"수학\":0, \"영어\":50, \"코딩\":100}\n",
    "\n",
    "# 기본 출력\n",
    "for subject, score in scores.items():\n",
    "    print(subject, score)\n",
    "\n",
    "# zfill, ljust, rjust / 모두 str에서 사용\n",
    "for subject, score in scores.items():\n",
    "    print(subject.ljust(2), str(score).rjust(4), sep = \":\")\n",
    "\n",
    "# 은행 대기순번표 001 002 003\n",
    "for num in range(1,3):\n",
    "    print(\"대기번호: \" + str(num).zfill(3))"
   ]
  },
  {
   "cell_type": "code",
   "execution_count": 15,
   "metadata": {},
   "outputs": [
    {
     "name": "stdout",
     "output_type": "stream",
     "text": [
      "아무 값이나 입력하세요 : 정답\n",
      "<class 'str'>\n",
      "입력하신 값은 정답입니다.\n"
     ]
    }
   ],
   "source": [
    "# input 값은 str형태\n",
    "answer = input(\"아무 값이나 입력하세요 : \")\n",
    "print(type(answer)) # 항상 문자 str 형태\n",
    "print(\"입력하신 값은 \" + answer + \"입니다.\")"
   ]
  },
  {
   "cell_type": "code",
   "execution_count": 21,
   "metadata": {},
   "outputs": [
    {
     "name": "stdout",
     "output_type": "stream",
     "text": [
      "       500\n",
      "      -500\n",
      "+500______\n",
      "+100,000,000,000,000\n",
      "+100,000,000,000,000^^^^^^^^^^\n",
      "1.67\n"
     ]
    }
   ],
   "source": [
    "# 빈 자리는 빈공간, 오른쪽 정렬, 총 10자리 공간 확보\n",
    "# {변수:빈칸채우기/정렬/부호/공간/콤마, 소수등}\n",
    "print(\"{0: >10}\".format(500))\n",
    "\n",
    "# 양수 + 음수 - 표시\n",
    "print(\"{0: >+10}\".format(-500))\n",
    "\n",
    "# 왼쪽 정렬, 빈칸 _\n",
    "print(\"{0:_<+10}\".format(500))\n",
    "\n",
    "# 3자리마다 콤파\n",
    "print(\"{0:+,}\".format(100000000000000))\n",
    "\n",
    "# 3자리마다 콤마, 부호, 자릿수 확보, 빈 자리는 ^\n",
    "print(\"{0:^<+30,}\".format(100000000000000))\n",
    "\n",
    "# 소수점\n",
    "print(\"{0:.2f}\".format(5/3))"
   ]
  },
  {
   "cell_type": "code",
   "execution_count": 38,
   "metadata": {},
   "outputs": [],
   "source": [
    "# 파일 입출력\n",
    "# 파일 입력\n",
    "score_file = open(\"score.txt\", \"w\", encoding = \"utf8\") # 쓰기용도 w\n",
    "print(\"수학: 0\", file=score_file)\n",
    "print(\"영어: 50\", file=score_file)\n",
    "score_file.close()"
   ]
  },
  {
   "cell_type": "code",
   "execution_count": 39,
   "metadata": {},
   "outputs": [],
   "source": [
    "# print는 자동 줄바꿈으로 입력되었는데 write는 아니어서 줄바꿈해야함\n",
    "# 데이터 추가: 파일.write\n",
    "score_file = open(\"score.txt\", \"a\", encoding = \"utf8\") # 데이터 더하기용도 a\n",
    "score_file.write(\"과학: 80\")\n",
    "score_file.write(\"\\n코딩: 100\")\n",
    "score_file.close()"
   ]
  },
  {
   "cell_type": "code",
   "execution_count": 40,
   "metadata": {},
   "outputs": [
    {
     "name": "stdout",
     "output_type": "stream",
     "text": [
      "수학: 0\n",
      "영어: 50\n",
      "과학: 80\n",
      "코딩: 100\n"
     ]
    }
   ],
   "source": [
    "# 파일 읽기 (전체)\n",
    "# 파일.read()\n",
    "score_file = open(\"score.txt\", \"r\", encoding = \"utf8\")\n",
    "print(score_file.read())\n",
    "score_file.close()"
   ]
  },
  {
   "cell_type": "code",
   "execution_count": 42,
   "metadata": {},
   "outputs": [
    {
     "name": "stdout",
     "output_type": "stream",
     "text": [
      "수학: 0\n",
      "\n"
     ]
    }
   ],
   "source": [
    "# 파일 읽기 (한줄)\n",
    "# 파일.readline()\n",
    "score_file = open(\"score.txt\", \"r\", encoding = \"utf8\")\n",
    "print(score_file.readline()) # 줄 별로 읽기, 한 줄 읽고 커서는 다음줄로 이동\n",
    "score_file.close()"
   ]
  },
  {
   "cell_type": "code",
   "execution_count": 44,
   "metadata": {},
   "outputs": [
    {
     "name": "stdout",
     "output_type": "stream",
     "text": [
      "수학: 0\n",
      "영어: 50\n",
      "과학: 80\n",
      "코딩: 100"
     ]
    }
   ],
   "source": [
    "# 파일 읽기 (전체) 한줄 버전\n",
    "score_file = open(\"score.txt\", \"r\", encoding = \"utf8\")\n",
    "while True:\n",
    "    line = score_file.readline()\n",
    "    if not line:\n",
    "        break\n",
    "    print(line, end = \"\")\n",
    "score_file.close()"
   ]
  },
  {
   "cell_type": "code",
   "execution_count": 46,
   "metadata": {},
   "outputs": [
    {
     "name": "stdout",
     "output_type": "stream",
     "text": [
      "수학: 0\n",
      "영어: 50\n",
      "과학: 80\n",
      "코딩: 100"
     ]
    }
   ],
   "source": [
    "# 파일 읽기 (전체) for문 이용\n",
    "score_file = open(\"score.txt\", \"r\", encoding = \"utf8\")\n",
    "lines = score_file.readlines() # list 형태로 저장\n",
    "for line in lines:\n",
    "    print(line, end=\"\")\n",
    "score_file.close()"
   ]
  },
  {
   "cell_type": "code",
   "execution_count": 47,
   "metadata": {},
   "outputs": [
    {
     "name": "stdout",
     "output_type": "stream",
     "text": [
      "{'이름': '박명수', '나이': 30, '취미': ['축구', '골프', '코딩']}\n",
      "{'이름': '박명수', '나이': 30, '취미': ['축구', '골프', '코딩']}\n"
     ]
    }
   ],
   "source": [
    "# pickle 파일 저장 binary, encoding x\n",
    "# pickle.dump(오브젝트, 저장할파일)\n",
    "# pickle.load(불러올파일)\n",
    "profile = {\"이름\":\"박명수\", \"나이\":30, \"취미\":[\"축구\",\"골프\",\"코딩\"]}\n",
    "print(profile)\n",
    "\n",
    "import pickle\n",
    "# 쓰기\n",
    "profile_file = open(\"profile.pickle\", \"wb\")\n",
    "pickle.dump(profile, profile_file) # profile 정보를 profile_file에 저장\n",
    "profile_file.close()\n",
    "\n",
    "# 읽기\n",
    "profile_file = open(\"profile.pickle\", \"rb\")\n",
    "profile = pickle.load(profile_file) # 파일에 있는 정보를 profile 에 불러오기\n",
    "print(profile)\n",
    "profile_file.close()"
   ]
  },
  {
   "cell_type": "code",
   "execution_count": 49,
   "metadata": {},
   "outputs": [
    {
     "name": "stdout",
     "output_type": "stream",
     "text": [
      "{'이름': '박명수', '나이': 30, '취미': ['축구', '골프', '코딩']}\n",
      "파이썬 공부중\n"
     ]
    }
   ],
   "source": [
    "# with로 파일 입출력\n",
    "with open(\"profile.pickle\", \"rb\") as profile_file2:\n",
    "    print(pickle.load(profile_file2))\n",
    "\n",
    "with open(\"study.txt\", \"w\", encoding=\"utf8\") as study_file:\n",
    "    study_file.write(\"파이썬 공부중\")\n",
    "\n",
    "with open(\"study.txt\", \"r\", encoding=\"utf8\") as study_file:\n",
    "    print(study_file.read())"
   ]
  },
  {
   "cell_type": "markdown",
   "metadata": {},
   "source": [
    "### Quiz 7\n",
    "당신의 회사는 매주 1회 작성해야 하는 보고서가 있습니다.\n",
    "\n",
    "보고서는 항상 아래와 같은 형태로 출력되어야 합니다.\n",
    "\n",
    "-- X 주차 주간보고 --\n",
    "\n",
    "부서 :\n",
    "\n",
    "이름 :\n",
    "\n",
    "업무 요약:\n",
    "\n",
    "1주차부터 50주차까지의 보고서 파일을 만드는 프로그램을 작성하시오.\n",
    "\n",
    "조건: 파일명은 1주차.txt, .. 와 같이 만듭니다."
   ]
  },
  {
   "cell_type": "code",
   "execution_count": 53,
   "metadata": {},
   "outputs": [
    {
     "name": "stdout",
     "output_type": "stream",
     "text": [
      "-- 1 주차 주간보고 --\n",
      "부서 :\n",
      "이름 :\n",
      "업무 요약 :\n",
      "-- 2 주차 주간보고 --\n",
      "부서 :\n",
      "이름 :\n",
      "업무 요약 :\n",
      "-- 3 주차 주간보고 --\n",
      "부서 :\n",
      "이름 :\n",
      "업무 요약 :\n",
      "-- 4 주차 주간보고 --\n",
      "부서 :\n",
      "이름 :\n",
      "업무 요약 :\n",
      "-- 5 주차 주간보고 --\n",
      "부서 :\n",
      "이름 :\n",
      "업무 요약 :\n"
     ]
    }
   ],
   "source": [
    "# 파일 생성\n",
    "for week in range(1,51):\n",
    "    with open(f\"{week}주차.txt\", \"w\", encoding=\"utf8\") as data:\n",
    "        data.write(f\"-- {week} 주차 주간보고 --\")\n",
    "        data.write(\"\\n부서 :\")\n",
    "        data.write(\"\\n이름 :\")\n",
    "        data.write(\"\\n업무 요약 :\")\n",
    "        \n",
    "# 파일 확인\n",
    "for week in range(1,6):\n",
    "    with open(f\"{week}주차.txt\", \"r\", encoding=\"utf8\") as data:\n",
    "        print(data.read())"
   ]
  }
 ],
 "metadata": {
  "kernelspec": {
   "display_name": "Python 3",
   "language": "python",
   "name": "python3"
  },
  "language_info": {
   "codemirror_mode": {
    "name": "ipython",
    "version": 3
   },
   "file_extension": ".py",
   "mimetype": "text/x-python",
   "name": "python",
   "nbconvert_exporter": "python",
   "pygments_lexer": "ipython3",
   "version": "3.8.5"
  }
 },
 "nbformat": 4,
 "nbformat_minor": 4
}
