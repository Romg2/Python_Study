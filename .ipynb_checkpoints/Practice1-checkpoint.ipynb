{
 "cells": [
  {
   "cell_type": "markdown",
   "metadata": {},
   "source": [
    "### 유튜브 나도코딩 강의 (기본편)"
   ]
  },
  {
   "cell_type": "code",
   "execution_count": 4,
   "metadata": {},
   "outputs": [],
   "source": [
    "# 문자형 변수\n",
    "animal = \"강아지\"\n",
    "name = \"장갑이\"\n",
    "hobby = \"산책\"\n",
    "\n",
    "# 숫자형 변수\n",
    "age = 4\n",
    "\n",
    "# 불린형 변수\n",
    "is_adult = age >= 3"
   ]
  },
  {
   "cell_type": "code",
   "execution_count": 5,
   "metadata": {},
   "outputs": [
    {
     "name": "stdout",
     "output_type": "stream",
     "text": [
      "우리집 강아지의 이름은 장갑이예요\n",
      "장갑이는 4살이며,산책을 아주 좋아해요\n",
      "장갑이 는  4 살이며,산책을 아주 좋아해요\n",
      "장갑이는 어른일까요? True\n"
     ]
    }
   ],
   "source": [
    "print(\"우리집 \" + animal + \"의 이름은 \" + name + \"예요\")\n",
    "print(name + \"는 \" +str(age) + \"살이며,\" + hobby + \"을 아주 좋아해요\")\n",
    "print(name, \"는 \", age, \"살이며,\" + hobby + \"을 아주 좋아해요\") # 콤마로 문자, 숫자 구분 없이 사용가능하지만 한칸 띄워짐\n",
    "print(name + \"는 어른일까요? \"  + str(is_adult))"
   ]
  },
  {
   "cell_type": "markdown",
   "metadata": {},
   "source": [
    "### Quiz 1\n",
    "변수를 이용하여 다음 문장을 출력하시오.\n",
    "\n",
    "변수명: station\n",
    "\n",
    "변수값:  \"사당\", \"신도림\", \"인천공항\"\n",
    "\n",
    "출력문장: XX행 열차가 들어오고 있습니다."
   ]
  },
  {
   "cell_type": "code",
   "execution_count": 8,
   "metadata": {},
   "outputs": [
    {
     "name": "stdout",
     "output_type": "stream",
     "text": [
      "사당행 열차가 들어오고 있습니다.\n"
     ]
    }
   ],
   "source": [
    "station = \"사당\"\n",
    "# station = \"신도림\"\n",
    "# station = \"인천공항\"\n",
    "\n",
    "print(station + \"행 열차가 들어오고 있습니다.\")"
   ]
  },
  {
   "cell_type": "code",
   "execution_count": 12,
   "metadata": {},
   "outputs": [
    {
     "name": "stdout",
     "output_type": "stream",
     "text": [
      "거듭제곱: 16\n",
      "거듭제곱: 16\n",
      "나머지: 1\n",
      "몫: 3\n",
      "논리: True\n",
      "논리: True\n",
      "논리: False\n",
      "절대값: 5\n",
      "반올림: 3.15\n"
     ]
    }
   ],
   "source": [
    "# 기본 수식\n",
    "print(\"거듭제곱:\", 4**2) ; print(\"거듭제곱:\", pow(4,2))\n",
    "print(\"나머지:\", 5%2)\n",
    "print(\"몫:\", 10//3)\n",
    "print(\"논리:\", 3 + 4 == 7)\n",
    "print(\"논리:\", 1 != 3)\n",
    "print(\"논리:\", not ( 1 != 3) )\n",
    "print(\"절대값:\", abs(-5))\n",
    "print(\"반올림:\", round(3.145,2))"
   ]
  },
  {
   "cell_type": "code",
   "execution_count": 13,
   "metadata": {},
   "outputs": [
    {
     "name": "stdout",
     "output_type": "stream",
     "text": [
      "14\n",
      "16\n",
      "18\n"
     ]
    }
   ],
   "source": [
    "# 변수 덮어 씌우기\n",
    "number = 2 + 3 * 4\n",
    "print(number)\n",
    "number = number + 2\n",
    "print(number)\n",
    "number +=2\n",
    "print(number)"
   ]
  },
  {
   "cell_type": "code",
   "execution_count": 17,
   "metadata": {},
   "outputs": [
    {
     "name": "stdout",
     "output_type": "stream",
     "text": [
      "3.988560106095175\n",
      "10\n",
      "1\n",
      "13\n"
     ]
    }
   ],
   "source": [
    "from random import *\n",
    "\n",
    "# 랜덤 연산자\n",
    "print(random() * 10) # random은 0 초과 ~ 1 미만\n",
    "print(int(random() * 10 ) + 1)\n",
    "\n",
    "a = \"123213123952380582058902d\"\n",
    "print(randrange(1,len(a))) # 1~46 미만\n",
    "print(randint(1,45)) # 1이상 45이하"
   ]
  },
  {
   "cell_type": "markdown",
   "metadata": {},
   "source": [
    "### Quiz 2\n",
    "당신은 최근에 코딩 스터디 모임을 새로 만들었습니다.\n",
    "\n",
    "월 4회 스터디를 하는데 3번은 온라인으로 하고 1번은 오프라인으로 하기로 했습니다.\n",
    "\n",
    "아래 조건에 맞는 오프라인 모임 날짜를 정해주는 프로그램을 작성하시오.\n",
    "\n",
    "- 조건1: 랜덤으로 날짜를 뽑아야 함\n",
    "- 조건2: 월별 날짜는 다름을 감안하여 최소 일수인 28 이내로 정함\n",
    "- 조건3: 매월 1~3일은 스터디 준비를 해야하므로 제외\n",
    "\n",
    "(출력문장)\n",
    "\n",
    "오프라인 스터디 모임 날짜는 매월 X 일로 선정되었습니다."
   ]
  },
  {
   "cell_type": "code",
   "execution_count": 21,
   "metadata": {},
   "outputs": [
    {
     "name": "stdout",
     "output_type": "stream",
     "text": [
      "오프라인 스터디 모임 날짜는 매월 25일로 선정되었습니다.\n"
     ]
    }
   ],
   "source": [
    "date = randint(4,28)\n",
    "\n",
    "print(\"오프라인 스터디 모임 날짜는 매월 \" + str(date) + \"일로 선정되었습니다.\")"
   ]
  }
 ],
 "metadata": {
  "anaconda-cloud": {},
  "kernelspec": {
   "display_name": "Python 3",
   "language": "python",
   "name": "python3"
  },
  "language_info": {
   "codemirror_mode": {
    "name": "ipython",
    "version": 3
   },
   "file_extension": ".py",
   "mimetype": "text/x-python",
   "name": "python",
   "nbconvert_exporter": "python",
   "pygments_lexer": "ipython3",
   "version": "3.8.5"
  },
  "metadata": {
   "interpreter": {
    "hash": "63fd5069d213b44bf678585dea6b12cceca9941eaf7f819626cde1f2670de90d"
   }
  }
 },
 "nbformat": 4,
 "nbformat_minor": 4
}
