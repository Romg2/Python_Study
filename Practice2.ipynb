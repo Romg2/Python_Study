{
 "cells": [
  {
   "cell_type": "code",
   "execution_count": 1,
   "metadata": {},
   "outputs": [
    {
     "name": "stdout",
     "output_type": "stream",
     "text": [
      "\n",
      "나는 소년이고,\n",
      "파이썬은 쉬워요.\n",
      "\n"
     ]
    }
   ],
   "source": [
    "# 문자열\n",
    "sentence3 = \"\"\"\n",
    "나는 소년이고,\n",
    "파이썬은 쉬워요.\n",
    "\"\"\"\n",
    "print(sentence3)"
   ]
  },
  {
   "cell_type": "code",
   "execution_count": 2,
   "metadata": {},
   "outputs": [
    {
     "name": "stdout",
     "output_type": "stream",
     "text": [
      "성별:  1\n",
      "출생년도:  90\n",
      "출생년도:  90\n",
      "뒷자리: 1210210\n",
      "뒷자리: 1210210\n"
     ]
    }
   ],
   "source": [
    "# 슬라이싱\n",
    "jumin =  \"901010-1210210\"\n",
    "\n",
    "print(\"성별:  \" + jumin[7]) # index가 0부터 인식\n",
    "print(\"출생년도:  \" + jumin[0:2]) # 0~1\n",
    "print(\"출생년도:  \" + jumin[:2]) # 0~1\n",
    "\n",
    "print(\"뒷자리: \" + jumin[7:]) # 7index부터 끝까지\n",
    "print(\"뒷자리: \" + jumin[-7:]) # 맨 마지막 index는 -1이다"
   ]
  },
  {
   "cell_type": "code",
   "execution_count": 3,
   "metadata": {},
   "outputs": [
    {
     "name": "stdout",
     "output_type": "stream",
     "text": [
      "소문자: kkdkd\n",
      "대문자: KKDKD\n",
      "길이: 5\n",
      "글자 대체: kkdkID\n",
      "첫 번째 k 위치: 0\n",
      "시작 위치 지정 후 k 위치: 3\n",
      "-1\n",
      "글자 수: 3\n"
     ]
    }
   ],
   "source": [
    "# 문자열 처리 함수\n",
    "b = \"kkdkD\"\n",
    "print(\"소문자: \" + b.lower())\n",
    "print(\"대문자: \" + b.upper())\n",
    "print(\"길이: \" + str(len(b)))\n",
    "\n",
    "print(\"글자 대체: \" + b.replace(\"D\", \"ID\"))\n",
    "\n",
    "print(\"첫 번째 k 위치:\", b.index(\"k\"))\n",
    "print(\"시작 위치 지정 후 k 위치:\", b.index(\"k\",2))\n",
    "\n",
    "# find는 없으면 -1, index는 없으면 error\n",
    "print(b.find(\"f\",2))\n",
    "# print(b.index(\"f\",2))\n",
    "\n",
    "print(\"글자 수:\", b.count(\"k\"))"
   ]
  },
  {
   "cell_type": "code",
   "execution_count": 32,
   "metadata": {},
   "outputs": [
    {
     "name": "stdout",
     "output_type": "stream",
     "text": [
      "나는 20살입니다.\n",
      "나는 파이썬를 좋아해요.\n",
      "나는 A를 좋아해요.\n",
      "나는 파란색과 초록색을 좋아해요.\n",
      "나는 20살입니다.\n",
      "나는 파란색과 초록색을 좋아해요.\n",
      "나는 초록색과 파란색을 좋아해요.\n",
      "나는 20살이고 파란색을 좋아해요.\n",
      "나는 20살이고 파란색을 좋아해요.\n"
     ]
    }
   ],
   "source": [
    "# 문자열 포맷\n",
    "# 방법 1\n",
    "print(\"나는 %d살입니다.\" % 20) # 정수\n",
    "print(\"나는 %s를 좋아해요.\" % \"파이썬\") # 문자\n",
    "print(\"나는 %c를 좋아해요.\" % \"A\")\n",
    "print(\"나는 %s색과 %s색을 좋아해요.\" % (\"파란\",\"초록\"))\n",
    "\n",
    "# 방법 2\n",
    "print(\"나는 {}살입니다.\" .format(20))\n",
    "print(\"나는 {}색과 {}색을 좋아해요.\" .format(\"파란\",\"초록\"))\n",
    "print(\"나는 {1}색과 {0}색을 좋아해요.\" .format(\"파란\",\"초록\"))\n",
    "\n",
    "# 방법 3\n",
    "print(\"나는 {age}살이고 {color}색을 좋아해요.\" .format(age = 20, color = \"파란\"))\n",
    "\n",
    "# 방법 4\n",
    "age = 20\n",
    "color = \"파란\"\n",
    "\n",
    "print(f\"나는 {age}살이고 {color}색을 좋아해요.\")"
   ]
  },
  {
   "cell_type": "code",
   "execution_count": 33,
   "metadata": {},
   "outputs": [
    {
     "name": "stdout",
     "output_type": "stream",
     "text": [
      "저는 \"파이썬 사용자\"입니다.\n",
      "C:\\Users\\Name\n",
      "백문이 불여일견 \n",
      "백견이 불여일타\n",
      "Red Apple\r",
      "Pine\n",
      "Red a b\r",
      "Pine\n",
      "Redd\bApple\n",
      "Red\tApple\n"
     ]
    }
   ],
   "source": [
    "# 탈출문자\n",
    "# \\ 뒤를 문자로 인식\n",
    "print(\"저는 \\\"파이썬 사용자\\\"입니다.\")\n",
    "print(\"C:\\\\Users\\\\Name\")\n",
    "\n",
    " # \\n : 줄 바꿈\n",
    "print(\"백문이 불여일견 \\n백견이 불여일타\")\n",
    "\n",
    "# \\r : 커서를 맨 앞으로 이동\n",
    "print(\"Red Apple\\rPine\")\n",
    "print(\"Red a b\\rPine\")\n",
    "\n",
    "# \\b : 백 스페이스 (한 글자 삭제)\n",
    "print(\"Redd\\bApple\")\n",
    "\n",
    "# \\t : 탭\n",
    "print(\"Red\\tApple\")"
   ]
  },
  {
   "cell_type": "markdown",
   "metadata": {},
   "source": [
    "### Quiz 3\n",
    "\n",
    "사이트별로 비밀번호를 만들어 주는 프로그램을 작성하시오\n",
    "\n",
    "예) http://naver.com\n",
    "- 규칙 1: http:// 부분은 제외 => naver.com\n",
    "- 규칙 2: 처음 만나는 점(.) 이후 부분은 제외 => naver\n",
    "- 규칙 3: 남은 글자 중 처음 세자리 + 글자 갯수 + 글자 내 'e' 갯수 + \"!\"로 구성\n",
    "    \n",
    "답: nav51!"
   ]
  },
  {
   "cell_type": "code",
   "execution_count": 26,
   "metadata": {},
   "outputs": [
    {
     "name": "stdout",
     "output_type": "stream",
     "text": [
      "http://naver.com의 비밀번호는 nav51! 입니다.\n"
     ]
    }
   ],
   "source": [
    "url = \"http://naver.com\"\n",
    "url_2 = url.replace(\"http://\", \"\")\n",
    "url_3 = url_2[0:url_2.find(\".\")]\n",
    "\n",
    "password =  url_3[0:3] + str(len(url_3)) + str(url_3.count(\"e\")) + \"!\"\n",
    "\n",
    "print(f\"{url}의 비밀번호는 {password} 입니다.\")"
   ]
  },
  {
   "cell_type": "markdown",
   "metadata": {},
   "source": [
    "##### 리스트 [ ] 튜플 () 집합{ } 사전{ }\n",
    "##### 리스트 [ ]: append, insert, pop, sort, reverse, clear, extend\n",
    "##### 튜플 ( ): 수정이 안되지만 리스트보다 빠름 / 여러 튜플 동시 설정 가능\n",
    "##### 집합 { }: 중복x, 순서x / 교집합 & interaction / 합집합 | union / 차집합 - difference / add remove\n",
    "##### 사전 {key,value}: key, value, items, get(key, \"출력문\"), del, clear"
   ]
  },
  {
   "cell_type": "code",
   "execution_count": 40,
   "metadata": {},
   "outputs": [
    {
     "name": "stdout",
     "output_type": "stream",
     "text": [
      "1\n",
      "['유재석', '조세호', '박명수', '하하']\n",
      "['유재석', '정형돈', '조세호', '박명수', '하하']\n",
      "['유재석', '정형돈', '조세호', '하하']\n",
      "2\n",
      "['유재석', '유재석', '정형돈', '조세호', '하하']\n",
      "['하하', '조세호', '정형돈', '유재석', '유재석']\n",
      "[]\n",
      "[1, 2, 3, '김', '나', 3]\n"
     ]
    }
   ],
   "source": [
    "# 리스트 [ ]\n",
    "subway = [\"유재석\", \"조세호\", \"박명수\"]\n",
    "print(subway.index(\"조세호\"))\n",
    "\n",
    "# 데이터 추가\n",
    "subway.append(\"하하\")\n",
    "print(subway)\n",
    "\n",
    "# 데이터 중간 삽입\n",
    "subway.insert(1, \"정형돈\")\n",
    "print(subway)\n",
    "\n",
    "# 데이터 제거\n",
    "subway.pop(3)\n",
    "print(subway)\n",
    "\n",
    "# 데이터 수 확인\n",
    "subway.append(\"유재석\")\n",
    "print(subway.count(\"유재석\"))\n",
    "\n",
    "# 정렬\n",
    "subway.sort()\n",
    "print(subway)\n",
    "\n",
    "# 내림차순\n",
    "subway.reverse()\n",
    "print(subway)\n",
    "\n",
    "# 모두 지우기\n",
    "subway.clear()\n",
    "print(subway)\n",
    "\n",
    "# 다양한 자료형 함께 사용\n",
    "n_list= [1,2,3]\n",
    "m_list= [\"김\",\"나\",3]\n",
    "\n",
    "# 리스트 합치기\n",
    "n_list.extend(m_list)\n",
    "print(n_list)"
   ]
  },
  {
   "cell_type": "code",
   "execution_count": 43,
   "metadata": {},
   "outputs": [
    {
     "name": "stdout",
     "output_type": "stream",
     "text": [
      "유재석\n",
      "유재석\n",
      "값이 없습니다.\n",
      "True\n",
      "dict_keys([100, 5])\n",
      "dict_values(['김태호', '조세호'])\n",
      "dict_items([(100, '김태호'), (5, '조세호')])\n",
      "{}\n"
     ]
    }
   ],
   "source": [
    "# 사전 { }\n",
    "cabinet = {3:\"유재석\", 100:\"김태호\"}\n",
    "print(cabinet[3]) # 값이 없는 경우 오류\n",
    "print(cabinet.get(3)) # 값이 없는 경우 None 이라고 나옴\n",
    "print(cabinet.get(5,\"값이 없습니다.\")) # 값이 없는 경우 나오는 값 설정\n",
    "\n",
    "print( 3 in cabinet) # true fale 사용가능\n",
    "\n",
    "# 사전 데이터 갱신\n",
    "cabinet[3] = \"김종국\" # 갱신\n",
    "cabinet[5] = \"조세호\" # 추가\n",
    "del cabinet[3] # 삭제\n",
    "\n",
    "# 출력\n",
    "print(cabinet.keys()) # 키 출력\n",
    "print(cabinet.values()) # 값 출력\n",
    "print(cabinet.items()) # 함께 출력\n",
    "\n",
    "# 데이터 제거\n",
    "cabinet.clear()\n",
    "print(cabinet)"
   ]
  },
  {
   "cell_type": "code",
   "execution_count": 46,
   "metadata": {},
   "outputs": [],
   "source": [
    "# 튜플 ( ) : 수정이 안되지만 리스트보다 빠름\n",
    "menu = (\"돈까스\", \"치즈까스\")\n",
    "\n",
    "# name = \"김종국\"\n",
    "# age =20\n",
    "# hobby = \"코딩\"\n",
    "\n",
    "# 한번에 데이터 입력\n",
    "(name, age, hobby) = (\"김종국\", 20, \"코딩\")"
   ]
  },
  {
   "cell_type": "code",
   "execution_count": 47,
   "metadata": {},
   "outputs": [
    {
     "name": "stdout",
     "output_type": "stream",
     "text": [
      "{1, 2, 3}\n",
      "{'유재석'}\n",
      "{'유재석'}\n",
      "{'박명수', '김태호', '유재석', '양세형'}\n",
      "{'박명수', '김태호', '유재석', '양세형'}\n",
      "{'김태호', '양세형'}\n",
      "{'김태호', '양세형'}\n"
     ]
    }
   ],
   "source": [
    "# 집합 { }\n",
    "# 중복 안됨, 순서 없음\n",
    "my_set = {1,2,3,3,3}\n",
    "print(my_set)\n",
    "\n",
    "java = {\"유재석\", \"김태호\", \"양세형\"}\n",
    "python = set([\"유재석\", \"박명수\"])\n",
    "\n",
    "# 교집합\n",
    "print(java & python)\n",
    "print(java.intersection(python))\n",
    "\n",
    "# 합집합\n",
    "print( java | python)\n",
    "print( java.union(python))\n",
    "\n",
    "# 차집합\n",
    "print( java - python)\n",
    "print( java.difference(python))\n",
    "\n",
    "# 데이터 추가 삭제\n",
    "python.add(\"김태호\")\n",
    "python.remove(\"김태호\")"
   ]
  },
  {
   "cell_type": "code",
   "execution_count": 48,
   "metadata": {},
   "outputs": [
    {
     "name": "stdout",
     "output_type": "stream",
     "text": [
      "{'커피', '우유', '주스'} <class 'set'>\n",
      "['커피', '우유', '주스'] <class 'list'>\n",
      "('커피', '우유', '주스') <class 'tuple'>\n"
     ]
    }
   ],
   "source": [
    "# 자료구조의 변경\n",
    "menu = {\"커피\", \"우유\", \"주스\"}\n",
    "print(menu, type(menu))\n",
    "\n",
    "menu = list(menu)\n",
    "print(menu, type(menu))\n",
    "\n",
    "menu = tuple(menu)\n",
    "print(menu, type(menu))"
   ]
  },
  {
   "cell_type": "markdown",
   "metadata": {},
   "source": [
    "### Quiz 4\n",
    "추첨통해서 1명은 치킨, 3명은 커피 \n",
    "- 조건1: 20명 참가, 아이디는 1-20\n",
    "- 조건2: 무작위로 추첨하되 중복 불가\n",
    "- 조건3: random 모듈의 suffle과 sample 사용\n",
    "    \n",
    "(출력예제)\n",
    "\n",
    "-- 당첨자 발표 --\n",
    "\n",
    "치킨 당첨자 : 1\n",
    "    \n",
    "커피 당첨자 : [2,3,4]\n",
    "    \n",
    "-- 축하합니다 --"
   ]
  },
  {
   "cell_type": "code",
   "execution_count": 65,
   "metadata": {},
   "outputs": [
    {
     "name": "stdout",
     "output_type": "stream",
     "text": [
      "-- 당첨자 발표 -- \n",
      "치킨당첨자: [19] \n",
      "커피당첨자: [16, 12, 15] \n",
      "-- 축하합니다 --\n"
     ]
    }
   ],
   "source": [
    "from random import *\n",
    "\n",
    "# 리스트 생성 및 셔플\n",
    "lst = list(range(1,21))\n",
    "shuffle(lst)\n",
    "\n",
    "# 치킨 당첨자\n",
    "chicken = sample(lst,1)\n",
    "\n",
    "# 커피 당첨자\n",
    "lst_2 = set(lst) - set(chicken)\n",
    "coffee = sample(lst_2,3)\n",
    "\n",
    "print(f\"-- 당첨자 발표 -- \\n치킨당첨자: {chicken} \\n커피당첨자: {coffee} \\n-- 축하합니다 --\")"
   ]
  }
 ],
 "metadata": {
  "kernelspec": {
   "display_name": "Python 3",
   "language": "python",
   "name": "python3"
  },
  "language_info": {
   "codemirror_mode": {
    "name": "ipython",
    "version": 3
   },
   "file_extension": ".py",
   "mimetype": "text/x-python",
   "name": "python",
   "nbconvert_exporter": "python",
   "pygments_lexer": "ipython3",
   "version": "3.8.5"
  }
 },
 "nbformat": 4,
 "nbformat_minor": 4
}
